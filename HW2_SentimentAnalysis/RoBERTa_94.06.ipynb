{
 "cells": [
  {
   "cell_type": "markdown",
   "id": "ZpI-S9-Hp-En",
   "metadata": {
    "id": "ZpI-S9-Hp-En"
   },
   "source": [
    "# 情緒分析\n",
    "\n",
    "資料集: [Learning Word Vectors for Sentiment Analysis](https://aclanthology.org/P11-1015.pdf)\n",
    "\n",
    "程式碼參考自: [huggingface](https://huggingface.co/)\n",
    "\n",
    "> **資料集說明**\n",
    "\n",
    "Large Movie Review Dataset. This is a dataset for binary sentiment classification containing substantially more data than previous benchmark datasets. We provide a set of 25,000 highly polar movie reviews for training, and 25,000 for testing. There is additional unlabeled data for use as well.\n",
    "\n",
    ">**本次介紹模型為BERT**\n",
    "\n",
    "[BERT: Pre-training of Deep Bidirectional Transformers for Language Understanding](https://github.com/google-research/bert)\n",
    "\n",
    "程式碼參考自: [huggingface](https://huggingface.co/)\n",
    "\n",
    "![](https://i.imgur.com/spiKPbQ.png)\n",
    "\n",
    "[可搭配李宏毅大大的說明影片食用](https://youtu.be/UYPa347-DdE)\n",
    "\n",
    "**訓練一個BERT分類模型，輸入是一句話，辨識出這句話的情緒傾向。**\n",
    "\n",
    "\n",
    ">**作業說明**\n",
    "\n",
    "**第一步驟**: 左上角 檔案 -> 在雲端硬碟建立副本。\n",
    "\n",
    "**第二步驟**: 右上角 共用 -> 取得連結 -> 任何知道這個連結的人都能編輯\n",
    "\n",
    "**第三步驟**: 左上角 執行階段 -> 更變執行類型 -> GPU。 可以加快模型速度\n",
    "\n",
    "**第四步驟**: 檔案名稱，請填寫你的學號，把副本上下引號刪掉。 **如 \"HW2-BERT-111423048.ipynb\"**\n",
    "\n",
    "請 **隨意修改** 這個colab的程式來完成訓練BERT分類模型。**要跑得出來Testing Accuracy, 須完成TODO1-7**，不必一定要照著提示走。\n",
    "繳交時記得改檔案標題的學號。\n",
    "\n",
    "本次作業著重在學習pytorch的使用方法及Transformer家族中BERT的應用。\n",
    "\n",
    "> **作業限制**\n",
    "\n",
    "1. 不要動資料集、不要在訓練時偷看 test data\n",
    "2. 模型可自行多嘗試不同組合，**不能只用已經pretrained好的模型**，一定再用新的資料訓練過\n",
    "3. **不要抄襲**\n",
    "\n",
    "> **作業繳交**\n",
    "\n",
    "1. 完成訓練後保存output結果，更改**檔名學號**，左上角 檔案->下載 成ipynb檔。\n",
    "2. 交一個pdf檔，裡面需要附上**你的作業colab連結(設為可編輯)**、姓名學號年級、過程和執行結果的截圖，並說明你程式撰寫的過程、本次作業心得(字數不限)。\n",
    "3. 文件內至少應貼上你的 Test Acc\n",
    "4. 上述兩個檔案繳交至 ee-class。\n",
    "\n",
    "> **算分標準**\n",
    "\n",
    "* 基本分（85分）：20 + （Test_Acc-85） + Training function（20分） + Model（15分） + 文件（15分）\n",
    "\n",
    "* 加分項（15分）：請附上二至三種的pretrained模型結果（一個5分）**[Transformer 模型總覽](https://huggingface.co/docs/transformers/index)**\n",
    "\n",
    "> 舉例：原本是bert-base-uncased（完成這個就已經有5分了），如果你換其他模型如 distilbert-base-uncased，再完成一次並記錄結果可以再加5分（可在文件中敘述不同模型的差異或建議）\n",
    "\n",
    "1. 20分免費送\n",
    "2. 用訓練完的bert-base-uncased模型去看Test資料的accuracy再減去85\n",
    "3. 完成前置準備所需的程式碼(資料處理等)，共20分(包含TODO1-4)\n",
    "4. 完成模型建構，模型訓練及模型預測，共15分 (TODO5-7)\n",
    "5. 15分是文件分數\n",
    "6. 加分項15分：最多只加到15分（即完成3個模型）\n",
    "\n",
    "有問題再來信助教: joyce111423048@g.ncu.edu.tw"
   ]
  },
  {
   "cell_type": "markdown",
   "id": "6Y3gm_UxqEr1",
   "metadata": {
    "id": "6Y3gm_UxqEr1"
   },
   "source": [
    "### 資料集下載\n",
    "\n",
    "- 資料集說明 : \n",
    "  - text: a string feature.\n",
    "  - label: a classification label, with possible values including neg (0), pos (1)."
   ]
  },
  {
   "cell_type": "markdown",
   "id": "9aKF-XVUggmA",
   "metadata": {
    "id": "9aKF-XVUggmA"
   },
   "source": [
    "### 請注意\n",
    "* TODO\n",
    "> ```\n",
    "> ##########\n",
    "> # todo #\n",
    "> ##########\n",
    "> ```"
   ]
  },
  {
   "cell_type": "markdown",
   "id": "8zVpYXmzXyQ4",
   "metadata": {
    "id": "8zVpYXmzXyQ4"
   },
   "source": [
    "## 安裝與載入所需套件"
   ]
  },
  {
   "cell_type": "code",
   "execution_count": 1,
   "id": "sGLfFjfXYIQ8",
   "metadata": {
    "colab": {
     "base_uri": "https://localhost:8080/"
    },
    "executionInfo": {
     "elapsed": 5096,
     "status": "ok",
     "timestamp": 1680186710970,
     "user": {
      "displayName": "蔡琇鈞",
      "userId": "06728559442076792620"
     },
     "user_tz": -480
    },
    "id": "sGLfFjfXYIQ8",
    "outputId": "5b24dfc5-4f8b-4a9c-9408-e88fe0c4b0f9"
   },
   "outputs": [
    {
     "name": "stdout",
     "output_type": "stream",
     "text": [
      "Requirement already satisfied: datasets in /root/.miniconda3/lib/python3.7/site-packages (2.11.0)\n",
      "Requirement already satisfied: transformers in /root/.miniconda3/lib/python3.7/site-packages (4.28.0)\n",
      "Requirement already satisfied: huggingface-hub<1.0.0,>=0.11.0 in /root/.miniconda3/lib/python3.7/site-packages (from datasets) (0.13.4)\n",
      "Requirement already satisfied: requests>=2.19.0 in /root/.miniconda3/lib/python3.7/site-packages (from datasets) (2.22.0)\n",
      "Requirement already satisfied: pyarrow>=8.0.0 in /root/.miniconda3/lib/python3.7/site-packages (from datasets) (11.0.0)\n",
      "Requirement already satisfied: pyyaml>=5.1 in /root/.miniconda3/lib/python3.7/site-packages (from datasets) (6.0)\n",
      "Requirement already satisfied: fsspec[http]>=2021.11.1 in /root/.miniconda3/lib/python3.7/site-packages (from datasets) (2023.1.0)\n",
      "Requirement already satisfied: responses<0.19 in /root/.miniconda3/lib/python3.7/site-packages (from datasets) (0.18.0)\n",
      "Requirement already satisfied: dill<0.3.7,>=0.3.0 in /root/.miniconda3/lib/python3.7/site-packages (from datasets) (0.3.6)\n",
      "Requirement already satisfied: aiohttp in /root/.miniconda3/lib/python3.7/site-packages (from datasets) (3.8.4)\n",
      "Requirement already satisfied: pandas in /root/.miniconda3/lib/python3.7/site-packages (from datasets) (1.3.4)\n",
      "Requirement already satisfied: numpy>=1.17 in /root/.miniconda3/lib/python3.7/site-packages (from datasets) (1.21.5)\n",
      "Requirement already satisfied: tqdm>=4.62.1 in /root/.miniconda3/lib/python3.7/site-packages (from datasets) (4.65.0)\n",
      "Requirement already satisfied: packaging in /root/.miniconda3/lib/python3.7/site-packages (from datasets) (21.3)\n",
      "Requirement already satisfied: importlib-metadata in /root/.miniconda3/lib/python3.7/site-packages (from datasets) (4.11.3)\n",
      "Requirement already satisfied: xxhash in /root/.miniconda3/lib/python3.7/site-packages (from datasets) (3.2.0)\n",
      "Requirement already satisfied: multiprocess in /root/.miniconda3/lib/python3.7/site-packages (from datasets) (0.70.14)\n",
      "Requirement already satisfied: filelock in /root/.miniconda3/lib/python3.7/site-packages (from transformers) (3.11.0)\n",
      "Requirement already satisfied: regex!=2019.12.17 in /root/.miniconda3/lib/python3.7/site-packages (from transformers) (2022.10.31)\n",
      "Requirement already satisfied: tokenizers!=0.11.3,<0.14,>=0.11.1 in /root/.miniconda3/lib/python3.7/site-packages (from transformers) (0.13.3)\n",
      "Requirement already satisfied: async-timeout<5.0,>=4.0.0a3 in /root/.miniconda3/lib/python3.7/site-packages (from aiohttp->datasets) (4.0.2)\n",
      "Requirement already satisfied: multidict<7.0,>=4.5 in /root/.miniconda3/lib/python3.7/site-packages (from aiohttp->datasets) (6.0.4)\n",
      "Requirement already satisfied: frozenlist>=1.1.1 in /root/.miniconda3/lib/python3.7/site-packages (from aiohttp->datasets) (1.3.3)\n",
      "Requirement already satisfied: charset-normalizer<4.0,>=2.0 in /root/.miniconda3/lib/python3.7/site-packages (from aiohttp->datasets) (3.1.0)\n",
      "Requirement already satisfied: typing-extensions>=3.7.4 in /root/.miniconda3/lib/python3.7/site-packages (from aiohttp->datasets) (4.3.0)\n",
      "Requirement already satisfied: aiosignal>=1.1.2 in /root/.miniconda3/lib/python3.7/site-packages (from aiohttp->datasets) (1.3.1)\n",
      "Requirement already satisfied: yarl<2.0,>=1.0 in /root/.miniconda3/lib/python3.7/site-packages (from aiohttp->datasets) (1.8.2)\n",
      "Requirement already satisfied: attrs>=17.3.0 in /root/.miniconda3/lib/python3.7/site-packages (from aiohttp->datasets) (21.2.0)\n",
      "Requirement already satisfied: asynctest==0.13.0 in /root/.miniconda3/lib/python3.7/site-packages (from aiohttp->datasets) (0.13.0)\n",
      "Requirement already satisfied: pyparsing!=3.0.5,>=2.0.2 in /root/.miniconda3/lib/python3.7/site-packages (from packaging->datasets) (3.0.6)\n",
      "Requirement already satisfied: chardet<3.1.0,>=3.0.2 in /root/.miniconda3/lib/python3.7/site-packages (from requests>=2.19.0->datasets) (3.0.4)\n",
      "Requirement already satisfied: idna<2.9,>=2.5 in /root/.miniconda3/lib/python3.7/site-packages (from requests>=2.19.0->datasets) (2.8)\n",
      "Requirement already satisfied: certifi>=2017.4.17 in /root/.miniconda3/lib/python3.7/site-packages (from requests>=2.19.0->datasets) (2022.12.7)\n",
      "Requirement already satisfied: urllib3!=1.25.0,!=1.25.1,<1.26,>=1.21.1 in /root/.miniconda3/lib/python3.7/site-packages (from requests>=2.19.0->datasets) (1.25.11)\n",
      "Requirement already satisfied: zipp>=0.5 in /root/.miniconda3/lib/python3.7/site-packages (from importlib-metadata->datasets) (3.11.0)\n",
      "Requirement already satisfied: pytz>=2017.3 in /root/.miniconda3/lib/python3.7/site-packages (from pandas->datasets) (2021.3)\n",
      "Requirement already satisfied: python-dateutil>=2.7.3 in /root/.miniconda3/lib/python3.7/site-packages (from pandas->datasets) (2.8.2)\n",
      "Requirement already satisfied: six>=1.5 in /root/.miniconda3/lib/python3.7/site-packages (from python-dateutil>=2.7.3->pandas->datasets) (1.15.0)\n",
      "\u001b[33mWARNING: Running pip as the 'root' user can result in broken permissions and conflicting behaviour with the system package manager. It is recommended to use a virtual environment instead: https://pip.pypa.io/warnings/venv\u001b[0m\n",
      "\u001b[33mWARNING: You are using pip version 21.3.1; however, version 23.1.1 is available.\n",
      "You should consider upgrading via the '/root/.miniconda3/bin/python -m pip install --upgrade pip' command.\u001b[0m\n"
     ]
    }
   ],
   "source": [
    "!pip install datasets transformers"
   ]
  },
  {
   "cell_type": "code",
   "execution_count": 2,
   "id": "ej79ZzPJXyQ5",
   "metadata": {
    "id": "ej79ZzPJXyQ5"
   },
   "outputs": [],
   "source": [
    "from torch.utils.data import Dataset, DataLoader\n",
    "from transformers import AutoTokenizer\n",
    "# from transformers.models.bert.modeling_bert import BertPreTrainedModel, BertModel\n",
    "from transformers.models.roberta.modeling_roberta import RobertaModel, RobertaPreTrainedModel\n",
    "\n",
    "from sklearn.model_selection import train_test_split\n",
    "import torch\n",
    "import torch.nn.functional as Fun\n",
    "import transformers\n",
    "import matplotlib.pyplot as plt\n",
    "import pandas as pd\n",
    "import time\n",
    "import warnings\n",
    "warnings.filterwarnings('ignore') # setting ignore as a parameter\n"
   ]
  },
  {
   "cell_type": "markdown",
   "id": "kFHx_Dq5XyQ7",
   "metadata": {
    "id": "kFHx_Dq5XyQ7"
   },
   "source": [
    "## 一些模型會用到的小函數"
   ]
  },
  {
   "cell_type": "markdown",
   "id": "i6gcO4YfxzeT",
   "metadata": {
    "id": "i6gcO4YfxzeT"
   },
   "source": [
    "* TODO1: 完成get_pred()\n",
    "> 從logits的dimension=1去取得結果中數值最高者當做預測結果\n",
    "* TODO2: 完成cal_metrics()\n",
    "> 透過將tensor轉為numpy，可使用sklearn的套件算出acc, f1_score, recall及precision"
   ]
  },
  {
   "cell_type": "code",
   "execution_count": 3,
   "id": "nOSkuPT7XyQ8",
   "metadata": {
    "id": "nOSkuPT7XyQ8"
   },
   "outputs": [],
   "source": [
    "# get predict result\n",
    "def get_pred(logits):\n",
    "  ##########\n",
    "    probs = torch.softmax(logits, dim=1)\n",
    "    preds = torch.argmax(probs, dim=1)\n",
    "    return preds\n",
    "\n",
    "  ##########\n",
    "\n",
    "\n",
    "# calculate confusion metrics\n",
    "from sklearn.metrics import accuracy_score, f1_score, precision_score, recall_score\n",
    "def cal_metrics(pred, ans,average):\n",
    "  ##########\n",
    "  # todo #\n",
    "  ##########\n",
    "    pred = pred.detach().cpu().numpy() # 將 tensor 轉為 numpy array\n",
    "    ans = ans.detach().cpu().numpy()\n",
    "\n",
    "    acc = accuracy_score(ans, pred)\n",
    "    f1 = f1_score(ans, pred, average='macro')\n",
    "    recall = recall_score(ans, pred, average='macro')\n",
    "    precision = precision_score(ans, pred, average='macro')\n",
    "\n",
    "    return acc, f1, recall, precision"
   ]
  },
  {
   "cell_type": "code",
   "execution_count": 4,
   "id": "RuLxKpySXyQ-",
   "metadata": {
    "id": "RuLxKpySXyQ-"
   },
   "outputs": [],
   "source": [
    "# save model to path\n",
    "def save_checkpoint(save_path, model):\n",
    "  if save_path == None:\n",
    "      return\n",
    "  torch.save(model.state_dict(), save_path)\n",
    "  print(f'Model saved to ==> {save_path}')\n",
    "\n",
    "# load model from path\n",
    "def load_checkpoint(load_path, model, device):    \n",
    "  if load_path==None:\n",
    "      return\n",
    "  state_dict = torch.load(load_path, map_location=device)\n",
    "  print(f'Model loaded from <== {load_path}')\n",
    "  \n",
    "  model.load_state_dict(state_dict)\n",
    "  return model"
   ]
  },
  {
   "cell_type": "markdown",
   "id": "ioYB1sE_XyRA",
   "metadata": {
    "id": "ioYB1sE_XyRA"
   },
   "source": [
    "## 載入資料\n",
    "\n",
    "這個資料集有分成train, test, unsupervised。\n",
    "\n",
    "這次我們只使用train及test資料，且我們需要將原資料重新進行分割。\n",
    "\n",
    "將兩份資料合併後切割成 3:1:1 或是 8:1:1 的 train/val/test 資料集。"
   ]
  },
  {
   "cell_type": "code",
   "execution_count": 5,
   "id": "r_mBNUdCA410",
   "metadata": {
    "colab": {
     "base_uri": "https://localhost:8080/",
     "referenced_widgets": [
      "c707c476dbbb4c2e9c7fd1eedb4d65eb",
      "18882ffd62234ca2b3d66ab3199eb566",
      "73f0980c9bca44f4aa662e4ca46572f0",
      "2ce5426a69d44872a922fe5d5440c9ad",
      "ff87cd8067c4497ba0839e390fd80aad",
      "1eaadc75a74f4c4fa26c1e05cf1654fa",
      "1a8ba68ddd5f4eeea74f3766f083e16f",
      "75fc56b2fa784385ab2a78c565211ded",
      "1d301c7d9a62426f9a6eebd5b89e8c81",
      "0c34a7930aff41e19d169773b2888e3c",
      "638cbc56b96b43398e9ec45dd9d4a887"
     ]
    },
    "executionInfo": {
     "elapsed": 6091,
     "status": "ok",
     "timestamp": 1680186719076,
     "user": {
      "displayName": "蔡琇鈞",
      "userId": "06728559442076792620"
     },
     "user_tz": -480
    },
    "id": "r_mBNUdCA410",
    "outputId": "a2c7f22e-0e12-4d1f-d7c7-5004f3cee2bf"
   },
   "outputs": [
    {
     "name": "stderr",
     "output_type": "stream",
     "text": [
      "Found cached dataset imdb (/root/.cache/huggingface/datasets/imdb/plain_text/1.0.0/d613c88cf8fa3bab83b4ded3713f1f74830d1100e171db75bbddb80b3345c9c0)\n"
     ]
    },
    {
     "data": {
      "application/vnd.jupyter.widget-view+json": {
       "model_id": "eb2f52314082421e84624e194e040b1f",
       "version_major": 2,
       "version_minor": 0
      },
      "text/plain": [
       "  0%|          | 0/3 [00:00<?, ?it/s]"
      ]
     },
     "metadata": {},
     "output_type": "display_data"
    }
   ],
   "source": [
    "from datasets import load_dataset\n",
    "\n",
    "dataset = load_dataset(\"imdb\")"
   ]
  },
  {
   "cell_type": "markdown",
   "id": "07XTeYjcTen9",
   "metadata": {
    "id": "07XTeYjcTen9"
   },
   "source": [
    "看一下資料格式長怎樣"
   ]
  },
  {
   "cell_type": "code",
   "execution_count": 6,
   "id": "JxuLKpupMejB",
   "metadata": {
    "colab": {
     "base_uri": "https://localhost:8080/"
    },
    "executionInfo": {
     "elapsed": 19,
     "status": "ok",
     "timestamp": 1680186719077,
     "user": {
      "displayName": "蔡琇鈞",
      "userId": "06728559442076792620"
     },
     "user_tz": -480
    },
    "id": "JxuLKpupMejB",
    "outputId": "a001182d-3a56-44d4-ef1a-4d58ab75f2c6"
   },
   "outputs": [
    {
     "data": {
      "text/plain": [
       "DatasetDict({\n",
       "    train: Dataset({\n",
       "        features: ['text', 'label'],\n",
       "        num_rows: 25000\n",
       "    })\n",
       "    test: Dataset({\n",
       "        features: ['text', 'label'],\n",
       "        num_rows: 25000\n",
       "    })\n",
       "    unsupervised: Dataset({\n",
       "        features: ['text', 'label'],\n",
       "        num_rows: 50000\n",
       "    })\n",
       "})"
      ]
     },
     "execution_count": 6,
     "metadata": {},
     "output_type": "execute_result"
    }
   ],
   "source": [
    "dataset"
   ]
  },
  {
   "cell_type": "code",
   "execution_count": 7,
   "id": "fkrrOqXdTaaE",
   "metadata": {
    "colab": {
     "base_uri": "https://localhost:8080/"
    },
    "executionInfo": {
     "elapsed": 17,
     "status": "ok",
     "timestamp": 1680186719077,
     "user": {
      "displayName": "蔡琇鈞",
      "userId": "06728559442076792620"
     },
     "user_tz": -480
    },
    "id": "fkrrOqXdTaaE",
    "outputId": "d4f17771-3f9f-49e6-86ef-167a782a70d5"
   },
   "outputs": [
    {
     "data": {
      "text/plain": [
       "{'text': 'I rented I AM CURIOUS-YELLOW from my video store because of all the controversy that surrounded it when it was first released in 1967. I also heard that at first it was seized by U.S. customs if it ever tried to enter this country, therefore being a fan of films considered \"controversial\" I really had to see this for myself.<br /><br />The plot is centered around a young Swedish drama student named Lena who wants to learn everything she can about life. In particular she wants to focus her attentions to making some sort of documentary on what the average Swede thought about certain political issues such as the Vietnam War and race issues in the United States. In between asking politicians and ordinary denizens of Stockholm about their opinions on politics, she has sex with her drama teacher, classmates, and married men.<br /><br />What kills me about I AM CURIOUS-YELLOW is that 40 years ago, this was considered pornographic. Really, the sex and nudity scenes are few and far between, even then it\\'s not shot like some cheaply made porno. While my countrymen mind find it shocking, in reality sex and nudity are a major staple in Swedish cinema. Even Ingmar Bergman, arguably their answer to good old boy John Ford, had sex scenes in his films.<br /><br />I do commend the filmmakers for the fact that any sex shown in the film is shown for artistic purposes rather than just to shock people and make money to be shown in pornographic theaters in America. I AM CURIOUS-YELLOW is a good film for anyone wanting to study the meat and potatoes (no pun intended) of Swedish cinema. But really, this film doesn\\'t have much of a plot.',\n",
       " 'label': 0}"
      ]
     },
     "execution_count": 7,
     "metadata": {},
     "output_type": "execute_result"
    }
   ],
   "source": [
    "dataset['train'][0]"
   ]
  },
  {
   "cell_type": "markdown",
   "id": "6JN_QzdbSR2I",
   "metadata": {
    "id": "6JN_QzdbSR2I"
   },
   "source": [
    "* TODO3:把資料拿出來後，將train及test合併，重新切割後，儲存下來。"
   ]
  },
  {
   "cell_type": "code",
   "execution_count": 8,
   "id": "PHWieZNXIos5",
   "metadata": {
    "colab": {
     "base_uri": "https://localhost:8080/"
    },
    "executionInfo": {
     "elapsed": 1430,
     "status": "ok",
     "timestamp": 1680186720491,
     "user": {
      "displayName": "蔡琇鈞",
      "userId": "06728559442076792620"
     },
     "user_tz": -480
    },
    "id": "PHWieZNXIos5",
    "outputId": "a8cacbe1-aa5c-491a-aab7-62c678636ebd"
   },
   "outputs": [
    {
     "name": "stderr",
     "output_type": "stream",
     "text": [
      "Found cached dataset imdb (/root/.cache/huggingface/datasets/imdb/plain_text/1.0.0/d613c88cf8fa3bab83b4ded3713f1f74830d1100e171db75bbddb80b3345c9c0)\n"
     ]
    },
    {
     "data": {
      "application/vnd.jupyter.widget-view+json": {
       "model_id": "dd0cc69eecfa4e148ef404c82acd3418",
       "version_major": 2,
       "version_minor": 0
      },
      "text/plain": [
       "  0%|          | 0/3 [00:00<?, ?it/s]"
      ]
     },
     "metadata": {},
     "output_type": "display_data"
    }
   ],
   "source": [
    "import pandas as pd\n",
    "\n",
    "all_data = [] # a list to save all data\n",
    "\n",
    "##########\n",
    "# todo #\n",
    "##########\n",
    "\n",
    "from sklearn.model_selection import train_test_split\n",
    "\n",
    "# 載入資料集\n",
    "dataset = load_dataset('imdb')\n",
    "\n",
    "# 取出 train 和 test 資料\n",
    "train_data = dataset['train']\n",
    "test_data = dataset['test']\n",
    "\n",
    "# 將資料轉換成 Pandas DataFrame\n",
    "train_df = pd.DataFrame(train_data)\n",
    "test_df = pd.DataFrame(test_data)\n",
    "\n",
    "# 合併 train 和 test 資料\n",
    "all_df = pd.concat([train_df, test_df], ignore_index=True)\n",
    "\n",
    "# 重新進行分割\n",
    "train_df, test_df = train_test_split(all_df, test_size=0.2, random_state=42)"
   ]
  },
  {
   "cell_type": "markdown",
   "id": "-15N5wI3zmJ_",
   "metadata": {
    "id": "-15N5wI3zmJ_"
   },
   "source": [
    "可以看一下兩個類別分布的比例"
   ]
  },
  {
   "cell_type": "code",
   "execution_count": 9,
   "id": "mSQjyAzaoAJD",
   "metadata": {
    "colab": {
     "base_uri": "https://localhost:8080/"
    },
    "executionInfo": {
     "elapsed": 8,
     "status": "ok",
     "timestamp": 1680186720492,
     "user": {
      "displayName": "蔡琇鈞",
      "userId": "06728559442076792620"
     },
     "user_tz": -480
    },
    "id": "mSQjyAzaoAJD",
    "outputId": "93f11070-dca4-4817-e0a5-27df0b709ff8"
   },
   "outputs": [
    {
     "data": {
      "text/plain": [
       "0    0.5\n",
       "1    0.5\n",
       "Name: label, dtype: float64"
      ]
     },
     "execution_count": 9,
     "metadata": {},
     "output_type": "execute_result"
    }
   ],
   "source": [
    "all_df.label.value_counts() / len(all_df)"
   ]
  },
  {
   "cell_type": "code",
   "execution_count": 10,
   "id": "RhM_od5-Tpkc",
   "metadata": {
    "colab": {
     "base_uri": "https://localhost:8080/"
    },
    "executionInfo": {
     "elapsed": 904,
     "status": "ok",
     "timestamp": 1680186721391,
     "user": {
      "displayName": "蔡琇鈞",
      "userId": "06728559442076792620"
     },
     "user_tz": -480
    },
    "id": "RhM_od5-Tpkc",
    "outputId": "8ce7d558-4b86-4c89-9468-218c6926e2d1"
   },
   "outputs": [
    {
     "name": "stdout",
     "output_type": "stream",
     "text": [
      "# of train_df: 40000\n",
      "# of dev_df: 5000\n",
      "# of test_df data: 5000\n"
     ]
    }
   ],
   "source": [
    "from sklearn.model_selection import train_test_split\n",
    "\n",
    "train_df, temp_data = train_test_split(all_df, random_state=1111, train_size=0.8)\n",
    "dev_df, test_df = train_test_split(temp_data, random_state=1111, train_size=0.5)\n",
    "print('# of train_df:', len(train_df))\n",
    "print('# of dev_df:', len(dev_df))\n",
    "print('# of test_df data:', len(test_df))\n",
    "\n",
    "# save data\n",
    "train_df.to_csv('./train.tsv', sep='\\t', index=False)\n",
    "dev_df.to_csv('./val.tsv', sep='\\t', index=False)\n",
    "test_df.to_csv('./test.tsv', sep='\\t', index=False)"
   ]
  },
  {
   "cell_type": "markdown",
   "id": "le1XiOWDXyRE",
   "metadata": {
    "id": "le1XiOWDXyRE"
   },
   "source": [
    "### 自定義 Dataset，將tokenzie的步驟放進去"
   ]
  },
  {
   "cell_type": "markdown",
   "id": "BdDpKblL0aU9",
   "metadata": {
    "id": "BdDpKblL0aU9"
   },
   "source": [
    "* TODO4: 完成tokenize()\n",
    "> 我們會需要拿到該句話的 input_ids、attenntion_mask 及 token_type_ids。"
   ]
  },
  {
   "cell_type": "code",
   "execution_count": 11,
   "id": "yvkBgVIhXyRF",
   "metadata": {
    "id": "yvkBgVIhXyRF"
   },
   "outputs": [],
   "source": [
    "import torch\n",
    "from torch.utils.data import Dataset, DataLoader\n",
    "from transformers import AutoTokenizer\n",
    "import torch\n",
    "import torch.nn.functional as Fun\n",
    "\n",
    "# Using Dataset to build DataLoader\n",
    "class CustomDataset(Dataset):\n",
    "  def __init__(self, mode, df, specify, args):\n",
    "    assert mode in [\"train\", \"val\", \"test\"]  # 一般會切三份\n",
    "    self.mode = mode\n",
    "    self.df = df\n",
    "    self.specify = specify # specify column of data (the column U use for predict)\n",
    "    if self.mode != 'test':\n",
    "      self.label = df['label']\n",
    "    self.tokenizer = AutoTokenizer.from_pretrained(args[\"config\"])\n",
    "    self.max_len = args[\"max_len\"]\n",
    "    self.num_class = args[\"num_class\"]\n",
    "      \n",
    "  def __len__(self):\n",
    "    return len(self.df)\n",
    "\n",
    "  # transform label to one_hot label (if num_class > 2)\n",
    "  def one_hot_label(self, label):\n",
    "    return Fun.one_hot(torch.tensor(label), num_classes = self.num_class)\n",
    "  \n",
    "  # transform text to its number\n",
    "  def tokenize(self,input_text):\n",
    "    ##########\n",
    "    encoded_dict = self.tokenizer.encode_plus(\n",
    "                          input_text,                      # 输入的文本。\n",
    "                          add_special_tokens = True,       # 添加 '[CLS]' 和 '[SEP]'\n",
    "                          max_length = self.max_len,       # 设定最大文本长度\n",
    "                          padding='max_length',            # 不足长度则填充\n",
    "                          truncation=True,                 # 若超出最大长度则截断\n",
    "                          return_attention_mask = True,    # 返回 attention mask\n",
    "                          return_token_type_ids = True,    # 返回 token type ids\n",
    "                          return_tensors = 'pt',           # 返回 pytorch tensors 格式的数据\n",
    "                     )\n",
    "    \n",
    "    return encoded_dict['input_ids'].squeeze(), encoded_dict['attention_mask'].squeeze(), encoded_dict['token_type_ids'].squeeze()\n",
    "\n",
    "    ##########\n",
    "\n",
    "  # get single data\n",
    "  def __getitem__(self, index):\n",
    "    sentence = str(self.df[self.specify][index])\n",
    "    ids, mask, token_type_ids = self.tokenize(sentence)\n",
    "    \n",
    "\n",
    "    if self.mode == \"test\":\n",
    "        return torch.tensor(ids, dtype=torch.long), torch.tensor(mask, dtype=torch.long), \\\n",
    "            torch.tensor(token_type_ids, dtype=torch.long)\n",
    "    else:\n",
    "        if self.num_class > 2:\n",
    "            return torch.tensor(ids, dtype=torch.long), torch.tensor(mask, dtype=torch.long), \\\n",
    "                torch.tensor(token_type_ids, dtype=torch.long), self.one_hot_label(self.label[index])\n",
    "        else:\n",
    "            return torch.tensor(ids, dtype=torch.long), torch.tensor(mask, dtype=torch.long), \\\n",
    "                torch.tensor(token_type_ids, dtype=torch.long), torch.tensor(self.label[index], dtype=torch.long)"
   ]
  },
  {
   "cell_type": "markdown",
   "id": "RQsY2rjue4Tm",
   "metadata": {
    "id": "RQsY2rjue4Tm"
   },
   "source": [
    "## 建立模型\n",
    "\n",
    "*   自己重新寫分類模型\n",
    "*   模型訓練與評估的程式碼大致上相同，差別在於模型是否繼續進行梯度下降，以及模型參數是否繼續訓練\n",
    "\n"
   ]
  },
  {
   "cell_type": "markdown",
   "id": "7Dgb-mW30jhI",
   "metadata": {
    "id": "7Dgb-mW30jhI"
   },
   "source": [
    "* TODO5: 完成BertClassifier\n",
    "> 在初始化的地方加上dropout, linear layer（等於一層NN），其維度為類別數量；\n",
    "> 在forward function中把輸入值放進對應層數（bert -> dropout -> classifier）；\n",
    "> 請注意我們只取用bert輸出的sentence representation去做分類"
   ]
  },
  {
   "cell_type": "code",
   "execution_count": 12,
   "id": "suyj5WLJXyQ7",
   "metadata": {
    "id": "suyj5WLJXyQ7"
   },
   "outputs": [],
   "source": [
    "# # Model\n",
    "\n",
    "# import torch\n",
    "# import torch.nn as nn\n",
    "\n",
    "\n",
    "# class RobertaClassifier(RobertaPreTrainedModel):\n",
    "#   def __init__(self, config, args):\n",
    "#     super(RobertaClassifier, self).__init__(config)\n",
    "#     self.roberta = RobertaModel(config)\n",
    "#     self.dropout = nn.Dropout(args['dropout'])\n",
    "#     self.classifier = nn.Linear(config.hidden_size, args['num_class'])\n",
    "#     self.init_weights()\n",
    "\n",
    "#   def forward(self, input_ids=None, attention_mask=None, token_type_ids=None, position_ids=None,\n",
    "#               head_mask=None, inputs_embeds=None, labels=None, output_attentions=None,\n",
    "#               output_hidden_states=None, return_dict=None):\n",
    "#     outputs = self.roberta(\n",
    "#       input_ids,\n",
    "#       attention_mask=attention_mask,\n",
    "#       token_type_ids=token_type_ids,\n",
    "#       position_ids=position_ids,\n",
    "#       head_mask=head_mask,\n",
    "#       inputs_embeds=inputs_embeds,\n",
    "#       output_attentions=output_attentions,\n",
    "#       output_hidden_states=output_hidden_states,\n",
    "#       return_dict=return_dict,\n",
    "#     )\n",
    "\n",
    "#     pooled_output = outputs[1]\n",
    "#     pooled_output = self.dropout(pooled_output)\n",
    "#     logits = self.classifier(pooled_output)\n",
    "\n",
    "#     return logits\n",
    "#     ##########"
   ]
  },
  {
   "cell_type": "code",
   "execution_count": 13,
   "id": "5c7f37fd-831c-4e4d-b7fb-fdaf8b2c2339",
   "metadata": {},
   "outputs": [],
   "source": [
    "# Model\n",
    "\n",
    "import torch\n",
    "import torch.nn as nn\n",
    "\n",
    "\n",
    "class RobertaClassifier(RobertaPreTrainedModel):\n",
    "\n",
    "    def __init__(self, config, args):\n",
    "        super(RobertaClassifier, self).__init__(config)\n",
    "        self.roberta = RobertaModel(config)\n",
    "        self.pre_classifier = torch.nn.Linear(768, 768) ################# 新增的\n",
    "        self.dropout = nn.Dropout(args['dropout'])\n",
    "        self.classifier = nn.Linear(config.hidden_size, args['num_class'])\n",
    "        self.init_weights()\n",
    "\n",
    "    # def forward(self, input_ids, attention_mask, token_type_ids):\n",
    "    #     output_1 = self.roberta(input_ids=input_ids, attention_mask=attention_mask, token_type_ids=token_type_ids)\n",
    "    #     hidden_state = output_1[0]\n",
    "    #     pooler = hidden_state[:, 0]\n",
    "    #     pooler = self.pre_classifier(pooler)\n",
    "    #     pooler = torch.nn.ReLU()(pooler)\n",
    "    #     pooler = self.dropout(pooler)\n",
    "    #     output = self.classifier(pooler)\n",
    "    #     return output\n",
    "    \n",
    "    def forward(self, input_ids=None, attention_mask=None, token_type_ids=None, position_ids=None,\n",
    "              head_mask=None, inputs_embeds=None, labels=None, output_attentions=None,\n",
    "              output_hidden_states=None, return_dict=None):\n",
    "        outputs = self.roberta(\n",
    "        input_ids,\n",
    "        attention_mask=attention_mask,\n",
    "        token_type_ids=token_type_ids,\n",
    "        position_ids=position_ids,\n",
    "        head_mask=head_mask,\n",
    "        inputs_embeds=inputs_embeds,\n",
    "        output_attentions=output_attentions,\n",
    "        output_hidden_states=output_hidden_states,\n",
    "        return_dict=return_dict,\n",
    "    )\n",
    "\n",
    "        pooled_output = outputs[1]\n",
    "        pooled_output = self.dropout(pooled_output)\n",
    "        logits = self.classifier(pooled_output)\n",
    "\n",
    "        return logits"
   ]
  },
  {
   "cell_type": "markdown",
   "id": "fmr97mUu2Zmt",
   "metadata": {
    "id": "fmr97mUu2Zmt"
   },
   "source": [
    "這是已經寫好的evaluate()，train()會跟他很像\n",
    "\n",
    "(# 在評估模型的時候，不需要梯度下降)"
   ]
  },
  {
   "cell_type": "code",
   "execution_count": 14,
   "id": "_QVJaIv5XyQ9",
   "metadata": {
    "id": "_QVJaIv5XyQ9"
   },
   "outputs": [],
   "source": [
    "# evaluate dataloader\n",
    "def evaluate(model, data_loader, device):\n",
    "  val_loss, val_acc, val_f1, val_rec, val_prec = 0.0, 0.0, 0.0, 0.0, 0.0\n",
    "  step_count = 0\n",
    "  loss_fct = torch.nn.CrossEntropyLoss()\n",
    "  model.eval()\n",
    "  with torch.no_grad():\n",
    "    for data in data_loader:\n",
    "      ids, masks, token_type_ids, labels = [t.to(device) for t in data]\n",
    "\n",
    "      logits = model(input_ids = ids, \n",
    "              token_type_ids = token_type_ids, \n",
    "              attention_mask = masks)\n",
    "      acc, f1, rec, prec = cal_metrics(get_pred(logits), labels, 'macro')\n",
    "      loss = loss_fct(logits, labels)\n",
    "      \n",
    "      val_loss += loss.item()\n",
    "      val_acc += acc\n",
    "      val_f1 += f1\n",
    "      val_rec += rec\n",
    "      val_prec += prec\n",
    "      step_count+=1\n",
    "\n",
    "    val_loss = val_loss / step_count\n",
    "    val_acc = val_acc / step_count\n",
    "    val_f1 = val_f1 / step_count\n",
    "    val_rec = val_rec / step_count\n",
    "    val_prec = val_prec / step_count\n",
    "      \n",
    "  return val_loss, val_acc, val_f1, val_rec, val_prec"
   ]
  },
  {
   "cell_type": "markdown",
   "id": "4QTsH978XyRG",
   "metadata": {
    "id": "4QTsH978XyRG"
   },
   "source": [
    "## 開始訓練"
   ]
  },
  {
   "cell_type": "markdown",
   "id": "sAaBnWzTXyQ_",
   "metadata": {
    "id": "sAaBnWzTXyQ_"
   },
   "source": [
    "### 定義你的 Hyperparameters\n",
    "\n",
    "* 如果電腦的記憶體不夠可以試著減少 batch_size\n",
    "* 因為我們採用現有的模型去fine-tune，所以一般不需要設太多 epochs\n",
    "* config 就是我們所使用的現有模型，可以自己找適合的做替換\n",
    "* 這份 work 是做二分類，所以 num_class 為 2\n",
    "* 如果你的模型 overfit 了，可以把 dropout 調高\n",
    "* 可以試著調高或調低 learning_rate，這會影響他的學習速度（跨步的大小）\n",
    "* 你應該先檢閱你的資料再來決定 max_len （但 BERT 最大只吃到 512）"
   ]
  },
  {
   "cell_type": "code",
   "execution_count": 15,
   "id": "Jaui0JY50LR_",
   "metadata": {
    "id": "Jaui0JY50LR_"
   },
   "outputs": [],
   "source": [
    "from datetime import datetime\n",
    "parameters = {\n",
    "    \"num_class\": 2,\n",
    "    \"time\": str(datetime.now()).replace(\" \", \"_\"),\n",
    "    # Hyperparameters\n",
    "    \"model_name\": 'RoBERTa',\n",
    "    \"config\": 'roberta-base',\n",
    "    \"dropout\": 0.5, #0.1\n",
    "    \"learning_rate\": 1e-5, #1e-3\n",
    "    \"epochs\": 5, #3\n",
    "    \"max_len\": 512,  #512\n",
    "    \"batch_size\": 32,\n",
    "    \n",
    "}"
   ]
  },
  {
   "cell_type": "markdown",
   "id": "IJpQ20GSZOoV",
   "metadata": {
    "id": "IJpQ20GSZOoV"
   },
   "source": [
    "### 載入資料\n",
    "\n",
    "讀入資料並傳入自訂的Dataset以自訂資料格式\n",
    "\n",
    "之後傳入DataLoader以利後續訓練進行（將資料批次化以免記憶體爆掉）\n",
    "\n",
    "(# 你可以決定要sample部分資料還是全部都丟進去)"
   ]
  },
  {
   "cell_type": "code",
   "execution_count": 16,
   "id": "W0t0NVOAXyRG",
   "metadata": {
    "colab": {
     "base_uri": "https://localhost:8080/",
     "height": 145,
     "referenced_widgets": [
      "5f964809ce48437a887cbfe14a66af22",
      "91a62fb0f73745fb80db1d377e32cdd4",
      "77fb1652fd744facbbed9b8a23be8457",
      "31407c3417e946969edc1594d32e23bf",
      "e0d6a278f5ca4506bb129824e9ce2617",
      "52057265ba9242d487b28eae01a34067",
      "8b475f04a8b64db0b096da99dc401bd6",
      "f3b87fc4cbae49049e0834f01843352b",
      "0b67ce1810584a8084e4f3afc9332bda",
      "3bcfaf0108064bb9b5f04d2c781de8c1",
      "917141f226a5439ab8870072cdce72da",
      "0b9b98dd20b34fbeafad4b33549c8c75",
      "aca68689f12344a6883c03df3cbf8c6e",
      "47176d6d235d49d49be5aac90f4ba7a1",
      "24793b6a3f744df98cd39d9d73834051",
      "60ce46c153dc45ad98e4825141f7a1f7",
      "6e4919189cfd46789dce044a39ad4e46",
      "b15185d68cd24f98b9a4d5b0e42e75e7",
      "318c84f3612a4353ac8b4a3f78f0e74d",
      "b2f32e5cbdba4a90bf81a9daf94f31d5",
      "66eece2aed00420ba514b970ab9aa1c8",
      "5d099322ff2142d6b0904799dd099e54",
      "63ee62d39e1c450987eef3171e1cdfb0",
      "de66e4686eef45a4a76f4e170c722d9a",
      "f8efa2ff06fa4ab6b4876dfbf028e540",
      "404e383ede1f4bd29b468bcc269f85a6",
      "38625ce8b6bd44bfba2092e07fe2b0b2",
      "00c93a139acb4feb85635fe3f4cead4c",
      "ffb9250eea254625b2c596531ea24af3",
      "d6bec500c4394f8c954d4e4211862125",
      "ce8014d718a04403b7772e2c0b968edd",
      "2a94f50ac63e452aa39dda6ed6de4835",
      "541dfb5b2cbe44688e557ba5383b1cb0",
      "58e7b8dbabe54304b9c099107c26636c",
      "bfb52e0aa1514290a9cb3960b118ff3d",
      "5149fdd1f551405bab6e35e9c126fa9d",
      "11f652db904e4a3d9099f107a0970913",
      "403085f73c494e909cc11d98e41d63eb",
      "50e908f22cfe4693b2a7726dca5939ec",
      "00d1c5e673df47158259b5d3d6a340a4",
      "69220d4b77d240d9a285ee6e64dc56c0",
      "e3039a327f8b4781b7ce5172d79a8b7e",
      "28e1d33522bd41f98e9d294c5adfacab",
      "9f7c751a9c374fe2aeb5c68e5237e9b8"
     ]
    },
    "executionInfo": {
     "elapsed": 12845,
     "status": "ok",
     "timestamp": 1680186734233,
     "user": {
      "displayName": "蔡琇鈞",
      "userId": "06728559442076792620"
     },
     "user_tz": -480
    },
    "id": "W0t0NVOAXyRG",
    "outputId": "61f87b27-fe61-48db-b67c-03d2d3e2ab50"
   },
   "outputs": [],
   "source": [
    "import transformers\n",
    "import pandas as pd\n",
    "\n",
    "# load training data\n",
    "train_df = pd.read_csv('./train.tsv', sep = '\\t').sample(6000).reset_index(drop=True) \n",
    "train_dataset = CustomDataset('train', train_df, 'text', parameters)\n",
    "train_loader = DataLoader(train_dataset, batch_size=parameters['batch_size'], shuffle=True)\n",
    "\n",
    "# load validation data\n",
    "val_df = pd.read_csv('./val.tsv', sep = '\\t').sample(400).reset_index(drop=True) \n",
    "val_dataset = CustomDataset('val', val_df, 'text', parameters)\n",
    "val_loader = DataLoader(val_dataset, batch_size=parameters['batch_size'], shuffle=True)"
   ]
  },
  {
   "cell_type": "markdown",
   "id": "nMZ8wEyjab68",
   "metadata": {
    "id": "nMZ8wEyjab68"
   },
   "source": [
    "### 初始化模型\n",
    "*   載入模型（這邊會使用已經訓練過的模型，Fine-tune我們的資料集）\n",
    "*   定義Optimization\n",
    "  *   通常用Adam就可以了，你也可以換SGD之類的試看看\n",
    "  *   可以自己看需不需要加scheduler（可以自己寫一個function，也可以直接套用現有的function）\n",
    "  \n",
    "  ［請記得pytorch中是以step去計算，想要用epoch去訂定需自行換算］\n",
    "\n",
    "\n"
   ]
  },
  {
   "cell_type": "code",
   "execution_count": 17,
   "id": "5D7NzvuGaZfY",
   "metadata": {
    "colab": {
     "base_uri": "https://localhost:8080/",
     "height": 49,
     "referenced_widgets": [
      "85dadfa727544b069d4ebe0a7e06dd5b",
      "8efc237edd3b4c76b7cea099fb48fa92",
      "4160fe68060d47f482decec668c34ecf",
      "59af50f94da7438e9c716ce8bf735c59",
      "5d2d8770123d4f46b890e25893bfba35",
      "f82a5ea6dcc34c2c943d07e67efe1e59",
      "29b4609c62454c6bbb72cab031ee7447",
      "2da7af5b7f6b4df8aaf8b6c6260b9442",
      "5bfe02d68f5c45399e7458239fb98175",
      "157b80cbb3944170814162ed2f184b38",
      "afbbef3074814f5ab53b088d26a5b99f"
     ]
    },
    "executionInfo": {
     "elapsed": 14053,
     "status": "ok",
     "timestamp": 1680186748283,
     "user": {
      "displayName": "蔡琇鈞",
      "userId": "06728559442076792620"
     },
     "user_tz": -480
    },
    "id": "5D7NzvuGaZfY",
    "outputId": "f56187ce-f68c-46d0-ec1b-545fb5247f7d"
   },
   "outputs": [],
   "source": [
    "transformers.logging.set_verbosity_error() # close the warning message\n",
    "\n",
    "\n",
    "\n",
    "device = torch.device(\"cuda\" if torch.cuda.is_available() else \"cpu\")\n",
    "# device = torch.device('cpu')\n",
    "\n",
    "model = RobertaClassifier.from_pretrained(parameters['config'], parameters).to(device)\n",
    "loss_fct = torch.nn.CrossEntropyLoss() # we use cross entrophy loss\n",
    "\n",
    "## You can custom your optimizer (e.g. SGD .etc) ##\n",
    "# we use Adam here\n",
    "optimizer = torch.optim.Adam(model.parameters(), lr=parameters['learning_rate'], betas=(0.9, 0.999), eps=1e-9)\n",
    "\n",
    "## You also can add your custom scheduler ##\n",
    "\n",
    "# from transformers import get_cosine_schedule_with_warmup\n",
    "# num_train_steps = len(train_loader) * parameters['epochs']\n",
    "# scheduler = get_cosine_schedule_with_warmup(optimizer, num_warmup_steps=int(0.1 * num_train_steps), num_training_steps=num_train_steps, num_cycles=1)"
   ]
  },
  {
   "cell_type": "markdown",
   "id": "LmyDpsHc3rRN",
   "metadata": {
    "id": "LmyDpsHc3rRN"
   },
   "source": [
    "* 因為是做分類任務，所以這裡用CrossEntrophyLoss\n",
    "* 由於在pytorch中，CrossEntrophyLoss吃的input是未經softmax的值，所以在模型中不必加入softmax\n",
    "* 但若在後期想取得各類別實際機率就要經過softmax轉換\n",
    "* logits的數值不等於機率 ！！但一般而言，logits中較大者會與經過softmax轉換後的結果一致"
   ]
  },
  {
   "cell_type": "markdown",
   "id": "wtThctN23VIS",
   "metadata": {
    "id": "wtThctN23VIS"
   },
   "source": [
    "* TODO6: 完成訓練，可參照evaluate()並稍作調整以完成訓練"
   ]
  },
  {
   "cell_type": "code",
   "execution_count": 18,
   "id": "BUX_aw7hXyRH",
   "metadata": {
    "colab": {
     "base_uri": "https://localhost:8080/"
    },
    "executionInfo": {
     "elapsed": 1106090,
     "status": "ok",
     "timestamp": 1680187854361,
     "user": {
      "displayName": "蔡琇鈞",
      "userId": "06728559442076792620"
     },
     "user_tz": -480
    },
    "id": "BUX_aw7hXyRH",
    "outputId": "87a28ace-664d-43dc-b2d1-c2e62742a958"
   },
   "outputs": [
    {
     "name": "stdout",
     "output_type": "stream",
     "text": [
      "[epoch 1] cost time: 148.0255 s\n",
      "         loss     acc     f1      rec    prec\n",
      "train | 0.3666, 0.8093, 0.8041, 0.8093, 0.8109\n",
      "val  | 0.1674, 0.9423, 0.9407, 0.9393, 0.9459\n",
      "\n",
      "[epoch 2] cost time: 146.9923 s\n",
      "         loss     acc     f1      rec    prec\n",
      "train | 0.1532, 0.9468, 0.9453, 0.9476, 0.9478\n",
      "val  | 0.1737, 0.9303, 0.9287, 0.9291, 0.9380\n",
      "\n",
      "[epoch 3] cost time: 146.6113 s\n",
      "         loss     acc     f1      rec    prec\n",
      "train | 0.0987, 0.9676, 0.9665, 0.9679, 0.9675\n",
      "val  | 0.1946, 0.9423, 0.9419, 0.9442, 0.9441\n",
      "\n",
      "[epoch 4] cost time: 147.3811 s\n",
      "         loss     acc     f1      rec    prec\n",
      "train | 0.0615, 0.9811, 0.9804, 0.9810, 0.9814\n",
      "val  | 0.2349, 0.9231, 0.9208, 0.9228, 0.9225\n",
      "\n",
      "[epoch 5] cost time: 147.2832 s\n",
      "         loss     acc     f1      rec    prec\n",
      "train | 0.0448, 0.9877, 0.9874, 0.9881, 0.9877\n",
      "val  | 0.2476, 0.9351, 0.9342, 0.9353, 0.9371\n",
      "\n"
     ]
    }
   ],
   "source": [
    "# Start training\n",
    "import time\n",
    "metrics = ['loss', 'acc', 'f1', 'rec', 'prec']\n",
    "mode = ['train_', 'val_']\n",
    "record = {s+m :[] for s in mode for m in metrics}\n",
    "\n",
    "for epoch in range(parameters[\"epochs\"]):\n",
    "\n",
    "    st_time = time.time()\n",
    "    train_loss, train_acc, train_f1, train_rec, train_prec = 0.0, 0.0, 0.0, 0.0, 0.0\n",
    "    step_count = 0\n",
    "\n",
    "    ##########\n",
    "    model.train()\n",
    "    for data in train_loader:\n",
    "      ids, masks, token_type_ids, labels = [t.to(device) for t in data]\n",
    "\n",
    "      logits = model(input_ids = ids, \n",
    "              token_type_ids = token_type_ids, \n",
    "              attention_mask = masks)\n",
    "      acc, f1, rec, prec = cal_metrics(get_pred(logits), labels, 'macro')\n",
    "      loss = loss_fct(logits, labels)\n",
    "      \n",
    "     # backward pass\n",
    "      optimizer.zero_grad()\n",
    "      loss.backward()\n",
    "\n",
    "      # update model parameters\n",
    "      optimizer.step()\n",
    "    \n",
    "    \n",
    "      train_loss += loss.item()\n",
    "      train_acc += acc\n",
    "      train_f1 += f1\n",
    "      train_rec += rec\n",
    "      train_prec += prec\n",
    "      step_count+=1\n",
    "\n",
    "\n",
    "    ##########\n",
    "\n",
    "\n",
    "    # evaluate the model performace on val data after finishing an epoch training \n",
    "    val_loss, val_acc, val_f1, val_rec, val_prec = evaluate(model, val_loader, device)\n",
    "\n",
    "    train_loss = train_loss / step_count\n",
    "    train_acc = train_acc / step_count\n",
    "    train_f1 = train_f1 / step_count\n",
    "    train_rec = train_rec / step_count\n",
    "    train_prec = train_prec / step_count\n",
    "\n",
    "    print('[epoch %d] cost time: %.4f s'%(epoch + 1, time.time() - st_time))\n",
    "    print('         loss     acc     f1      rec    prec')\n",
    "    print('train | %.4f, %.4f, %.4f, %.4f, %.4f'%(train_loss, train_acc, train_f1, train_rec, train_prec))\n",
    "    print('val  | %.4f, %.4f, %.4f, %.4f, %.4f\\n'%(val_loss, val_acc, val_f1, val_rec, val_prec))\n",
    "\n",
    "    # record training metrics of each training epoch\n",
    "    record['train_loss'].append(train_loss)\n",
    "    record['train_acc'].append(train_acc)\n",
    "    record['train_f1'].append(train_f1)\n",
    "    record['train_rec'].append(train_rec)\n",
    "    record['train_prec'].append(train_prec)\n",
    "\n",
    "    record['val_loss'].append(val_loss)\n",
    "    record['val_acc'].append(val_acc)\n",
    "    record['val_f1'].append(val_f1)\n",
    "    record['val_rec'].append(val_rec)\n",
    "    record['val_prec'].append(val_prec)"
   ]
  },
  {
   "cell_type": "code",
   "execution_count": 19,
   "id": "YHTX3ycLXyRH",
   "metadata": {
    "colab": {
     "base_uri": "https://localhost:8080/"
    },
    "executionInfo": {
     "elapsed": 1968,
     "status": "ok",
     "timestamp": 1680187856314,
     "user": {
      "displayName": "蔡琇鈞",
      "userId": "06728559442076792620"
     },
     "user_tz": -480
    },
    "id": "YHTX3ycLXyRH",
    "outputId": "704c85d5-a467-4e4b-adf0-426e15fb52b2"
   },
   "outputs": [
    {
     "name": "stdout",
     "output_type": "stream",
     "text": [
      "Model saved to ==> ./roberta_copy1.pt\n"
     ]
    }
   ],
   "source": [
    "# save model\n",
    "save_checkpoint('./roberta_copy1.pt' , model)"
   ]
  },
  {
   "cell_type": "markdown",
   "id": "RHzv2n2E5Zex",
   "metadata": {
    "id": "RHzv2n2E5Zex",
    "tags": []
   },
   "source": [
    "### 畫圖"
   ]
  },
  {
   "cell_type": "code",
   "execution_count": 20,
   "id": "HtQra69-XyRI",
   "metadata": {
    "id": "HtQra69-XyRI"
   },
   "outputs": [],
   "source": [
    "# draw learning curve\n",
    "import matplotlib.pyplot as plt\n",
    "def draw_pics(record, name, img_save=False, show=False):\n",
    "    x_ticks = range(1, parameters['epochs']+1)\n",
    "    \n",
    "    plt.figure(figsize=(6, 3))\n",
    "\n",
    "    plt.plot(x_ticks, record['train_'+name], '-o', color='lightskyblue', \n",
    "             markeredgecolor=\"teal\", markersize=3, markeredgewidth=1, label = 'Train')\n",
    "    plt.plot(x_ticks, record['val_'+name], '-o', color='pink', \n",
    "             markeredgecolor=\"salmon\", markersize=3, markeredgewidth=1, label = 'Val')\n",
    "    plt.grid(color='lightgray', linestyle='--', linewidth=1)\n",
    "    \n",
    "    plt.title('Model', fontsize=14)\n",
    "    plt.ylabel(name, fontsize=12)\n",
    "    plt.xlabel('Epoch', fontsize=12)\n",
    "    plt.xticks(x_ticks, fontsize=12)\n",
    "    plt.yticks(fontsize=12)\n",
    "    plt.legend(loc='lower right' if not name.lower().endswith('loss') else 'upper right')\n",
    "    \n",
    "    if img_save:\n",
    "        plt.savefig(name+'.png', transparent=False, dpi=300)\n",
    "    if show:\n",
    "        plt.show()\n",
    "        \n",
    "    plt.close()"
   ]
  },
  {
   "cell_type": "code",
   "execution_count": 21,
   "id": "RKEdRFDzXyRI",
   "metadata": {
    "colab": {
     "base_uri": "https://localhost:8080/",
     "height": 342
    },
    "executionInfo": {
     "elapsed": 8,
     "status": "ok",
     "timestamp": 1680187856315,
     "user": {
      "displayName": "蔡琇鈞",
      "userId": "06728559442076792620"
     },
     "user_tz": -480
    },
    "id": "RKEdRFDzXyRI",
    "outputId": "035eff6f-a18a-43e7-af37-7fee89aa551d"
   },
   "outputs": [
    {
     "data": {
      "image/png": "[encoded data removed]",
      "text/plain": [
       "<Figure size 432x216 with 1 Axes>"
      ]
     },
     "metadata": {
      "needs_background": "light"
     },
     "output_type": "display_data"
    }
   ],
   "source": [
    "draw_pics(record, 'loss', img_save=False, show=True)"
   ]
  },
  {
   "cell_type": "code",
   "execution_count": 22,
   "id": "-gjV5dGCXyRI",
   "metadata": {
    "colab": {
     "base_uri": "https://localhost:8080/",
     "height": 342
    },
    "executionInfo": {
     "elapsed": 2405,
     "status": "ok",
     "timestamp": 1680187858713,
     "user": {
      "displayName": "蔡琇鈞",
      "userId": "06728559442076792620"
     },
     "user_tz": -480
    },
    "id": "-gjV5dGCXyRI",
    "outputId": "9c2d9a84-52be-48a8-e5c3-35d49079db40"
   },
   "outputs": [
    {
     "data": {
      "image/png": "[encoded data removed]",
      "text/plain": [
       "<Figure size 432x216 with 1 Axes>"
      ]
     },
     "metadata": {
      "needs_background": "light"
     },
     "output_type": "display_data"
    }
   ],
   "source": [
    "draw_pics(record, 'acc', img_save=False, show=True)"
   ]
  },
  {
   "cell_type": "code",
   "execution_count": 23,
   "id": "6Ej8ffuKDRwZ",
   "metadata": {
    "colab": {
     "base_uri": "https://localhost:8080/",
     "height": 342
    },
    "executionInfo": {
     "elapsed": 1267,
     "status": "ok",
     "timestamp": 1680188720410,
     "user": {
      "displayName": "蔡琇鈞",
      "userId": "06728559442076792620"
     },
     "user_tz": -480
    },
    "id": "6Ej8ffuKDRwZ",
    "outputId": "9d50e567-baff-4ba1-9fa4-773f82853f40"
   },
   "outputs": [
    {
     "data": {
      "image/png": "[encoded data removed]",
      "text/plain": [
       "<Figure size 432x216 with 1 Axes>"
      ]
     },
     "metadata": {
      "needs_background": "light"
     },
     "output_type": "display_data"
    }
   ],
   "source": [
    "draw_pics(record, 'f1', img_save=False, show=True)"
   ]
  },
  {
   "cell_type": "code",
   "execution_count": 24,
   "id": "F2xU_13LDlWa",
   "metadata": {
    "colab": {
     "base_uri": "https://localhost:8080/",
     "height": 342
    },
    "executionInfo": {
     "elapsed": 689,
     "status": "ok",
     "timestamp": 1680188804479,
     "user": {
      "displayName": "蔡琇鈞",
      "userId": "06728559442076792620"
     },
     "user_tz": -480
    },
    "id": "F2xU_13LDlWa",
    "outputId": "89bcab8d-6f0c-4f08-9f92-7974d8cad207"
   },
   "outputs": [
    {
     "data": {
      "image/png": "[encoded data removed]",
      "text/plain": [
       "<Figure size 432x216 with 1 Axes>"
      ]
     },
     "metadata": {
      "needs_background": "light"
     },
     "output_type": "display_data"
    }
   ],
   "source": [
    "draw_pics(record, 'rec', img_save=False, show=True)"
   ]
  },
  {
   "cell_type": "code",
   "execution_count": 25,
   "id": "lNDEyPWJDgIS",
   "metadata": {
    "colab": {
     "base_uri": "https://localhost:8080/",
     "height": 342
    },
    "executionInfo": {
     "elapsed": 8,
     "status": "ok",
     "timestamp": 1680188790284,
     "user": {
      "displayName": "蔡琇鈞",
      "userId": "06728559442076792620"
     },
     "user_tz": -480
    },
    "id": "lNDEyPWJDgIS",
    "outputId": "3d277e25-aa00-43ab-daeb-03fbd9a65850"
   },
   "outputs": [
    {
     "data": {
      "image/png": "[encoded data removed]",
      "text/plain": [
       "<Figure size 432x216 with 1 Axes>"
      ]
     },
     "metadata": {
      "needs_background": "light"
     },
     "output_type": "display_data"
    }
   ],
   "source": [
    "draw_pics(record, 'prec', img_save=False, show=True)"
   ]
  },
  {
   "cell_type": "markdown",
   "id": "A6GLT9fOXyRJ",
   "metadata": {
    "id": "A6GLT9fOXyRJ",
    "tags": []
   },
   "source": [
    "## 預測結果"
   ]
  },
  {
   "cell_type": "markdown",
   "id": "NXV9nz2RXyRJ",
   "metadata": {
    "id": "NXV9nz2RXyRJ"
   },
   "source": [
    "預測單筆（跟評估的程式大同小異）\n",
    "\n",
    "\n"
   ]
  },
  {
   "cell_type": "code",
   "execution_count": 26,
   "id": "BEjRQrsnXyRJ",
   "metadata": {
    "id": "BEjRQrsnXyRJ"
   },
   "outputs": [],
   "source": [
    "def Softmax(x):\n",
    "  return torch.exp(x) / torch.exp(x).sum()\n",
    "# label to class\n",
    "def label2class(label):\n",
    "  l2c = {0:'negative', 1:'positive'}\n",
    "  return l2c[label]"
   ]
  },
  {
   "cell_type": "markdown",
   "id": "8xYoz3EW6m7x",
   "metadata": {
    "id": "8xYoz3EW6m7x"
   },
   "source": [
    "* TODO7: 完成predict_one()"
   ]
  },
  {
   "cell_type": "code",
   "execution_count": 27,
   "id": "a4D4Z9-8XyRK",
   "metadata": {
    "id": "a4D4Z9-8XyRK"
   },
   "outputs": [],
   "source": [
    "# predict single sentence, return each-class's probability and predicted class\n",
    "import torch.nn.functional as F\n",
    "\n",
    "def predict_one(query, model):\n",
    "\n",
    "  ##########\n",
    "    model.eval()\n",
    "    tokenizer = AutoTokenizer.from_pretrained('roberta-base')\n",
    "    max_len = 128\n",
    "\n",
    "    # Tokenize and encode the query\n",
    "    encoded_query = tokenizer.encode_plus(\n",
    "        query,\n",
    "        max_length=max_len,\n",
    "        add_special_tokens=True,\n",
    "        return_token_type_ids=True, ################\n",
    "        padding='max_length',\n",
    "        truncation=True,\n",
    "        return_attention_mask=True,\n",
    "        return_tensors='pt'\n",
    "    )\n",
    "\n",
    "    # Get the input ids and attention mask from the encoded query\n",
    "    input_ids = encoded_query['input_ids'].to(device)\n",
    "    attention_mask = encoded_query['attention_mask'].to(device)\n",
    "    token_type_ids = encoded_query['token_type_ids'].to(device) # <---- add this line\n",
    "\n",
    "    # Predict probabilities for each class\n",
    "    with torch.no_grad():\n",
    "        # outputs = model(input_ids=input_ids, attention_mask=attention_mask)\n",
    "        outputs = model(input_ids=input_ids, attention_mask=attention_mask, token_type_ids=token_type_ids) # <---- add token_type_ids\n",
    "        logits = outputs[0]\n",
    "        probs = F.softmax(logits, dim=0).squeeze().tolist()\n",
    "\n",
    "    # Get the predicted class with the highest probability\n",
    "    pred = torch.argmax(logits, dim=0).item()\n",
    "  ##########\n",
    "    return probs, pred\n"
   ]
  },
  {
   "cell_type": "code",
   "execution_count": 28,
   "id": "egfecB7sXyRK",
   "metadata": {
    "colab": {
     "base_uri": "https://localhost:8080/"
    },
    "executionInfo": {
     "elapsed": 3850,
     "status": "ok",
     "timestamp": 1680188608961,
     "user": {
      "displayName": "蔡琇鈞",
      "userId": "06728559442076792620"
     },
     "user_tz": -480
    },
    "id": "egfecB7sXyRK",
    "outputId": "f9a3fce4-ed49-4fd7-de74-9b842ef1f6a4"
   },
   "outputs": [
    {
     "name": "stdout",
     "output_type": "stream",
     "text": [
      "Model loaded from <== ./roberta_copy1.pt\n"
     ]
    }
   ],
   "source": [
    "# you can load model from existing result\n",
    "device = torch.device(\"cuda\" if torch.cuda.is_available() else \"cpu\")\n",
    "# device = torch.device(\"cpu\")\n",
    "\n",
    "init_model = RobertaClassifier.from_pretrained(parameters['config'], parameters) # build an initial model\n",
    "model = load_checkpoint('./roberta_copy1.pt', init_model, device).to(device) # and load the weight of model from specify file"
   ]
  },
  {
   "cell_type": "code",
   "execution_count": 29,
   "id": "0BowzmKvXyRK",
   "metadata": {
    "colab": {
     "base_uri": "https://localhost:8080/"
    },
    "executionInfo": {
     "elapsed": 2170,
     "status": "ok",
     "timestamp": 1680188300563,
     "user": {
      "displayName": "蔡琇鈞",
      "userId": "06728559442076792620"
     },
     "user_tz": -480
    },
    "id": "0BowzmKvXyRK",
    "outputId": "7b604584-421b-467d-a168-aaedecf141c4"
   },
   "outputs": [
    {
     "name": "stdout",
     "output_type": "stream",
     "text": [
      "negative\n",
      "CPU times: user 174 ms, sys: 8.68 ms, total: 182 ms\n",
      "Wall time: 982 ms\n"
     ]
    }
   ],
   "source": [
    "%%time\n",
    "probs, pred = predict_one(\"This movie doesn't attract me\", model)\n",
    "print(label2class(pred))"
   ]
  },
  {
   "cell_type": "markdown",
   "id": "jW7WgMK-5UXJ",
   "metadata": {
    "id": "jW7WgMK-5UXJ"
   },
   "source": [
    "你也可以像evaluate function一樣，把它寫成dataloader的形式"
   ]
  },
  {
   "cell_type": "code",
   "execution_count": 30,
   "id": "c0s5Da92XyRN",
   "metadata": {
    "id": "c0s5Da92XyRN"
   },
   "outputs": [],
   "source": [
    "# predict dataloader\n",
    "def predict(data_loader, model):\n",
    "\n",
    "  tokenizer = AutoTokenizer.from_pretrained(parameters['config'])\n",
    "  device = torch.device(\"cuda\" if torch.cuda.is_available() else \"cpu\")\n",
    "  # device = torch.device(\"cpu\")\n",
    "\n",
    "    \n",
    "  total_probs, total_pred = [], []\n",
    "  model.eval()\n",
    "  with torch.no_grad():\n",
    "    for data in data_loader:\n",
    "      input_ids, attention_mask, \\\n",
    "      token_type_ids = [t.to(device) for t in data]\n",
    "\n",
    "      # forward pass\n",
    "      logits = model(input_ids, attention_mask, token_type_ids)\n",
    "      probs = Softmax(logits) # get each class-probs\n",
    "      label_index = torch.argmax(probs[0], dim=0)\n",
    "      pred = label_index.item()\n",
    "\n",
    "      total_probs.append(probs)\n",
    "      total_pred.append(pred)\n",
    "\n",
    "  return total_probs, total_pred"
   ]
  },
  {
   "cell_type": "code",
   "execution_count": 31,
   "id": "lPkXV9J5XyRN",
   "metadata": {
    "id": "lPkXV9J5XyRN"
   },
   "outputs": [],
   "source": [
    "# load testing data\n",
    "test_df = pd.read_csv('./test.tsv', sep = '\\t')\n",
    "test_dataset = CustomDataset('test', test_df, 'text', parameters)\n",
    "test_loader = DataLoader(test_dataset, batch_size=1, shuffle=False)\n",
    "\n",
    "total_probs, total_pred = predict(test_loader, model)\n",
    "res = test_df.copy()\n",
    "# add predict class of origin file \n",
    "res['pred'] = total_pred\n",
    "\n",
    "# save result\n",
    "res.to_csv('./result.tsv', sep='\\t', index=False)"
   ]
  },
  {
   "cell_type": "code",
   "execution_count": 32,
   "id": "e8R4lQHVCBw7",
   "metadata": {
    "colab": {
     "base_uri": "https://localhost:8080/",
     "height": 206
    },
    "executionInfo": {
     "elapsed": 6,
     "status": "ok",
     "timestamp": 1680188389909,
     "user": {
      "displayName": "蔡琇鈞",
      "userId": "06728559442076792620"
     },
     "user_tz": -480
    },
    "id": "e8R4lQHVCBw7",
    "outputId": "56de5734-9bef-44bd-ec04-2ecc65571298"
   },
   "outputs": [
    {
     "data": {
      "text/html": [
       "<div>\n",
       "<style scoped>\n",
       "    .dataframe tbody tr th:only-of-type {\n",
       "        vertical-align: middle;\n",
       "    }\n",
       "\n",
       "    .dataframe tbody tr th {\n",
       "        vertical-align: top;\n",
       "    }\n",
       "\n",
       "    .dataframe thead th {\n",
       "        text-align: right;\n",
       "    }\n",
       "</style>\n",
       "<table border=\"1\" class=\"dataframe\">\n",
       "  <thead>\n",
       "    <tr style=\"text-align: right;\">\n",
       "      <th></th>\n",
       "      <th>text</th>\n",
       "      <th>label</th>\n",
       "      <th>pred</th>\n",
       "    </tr>\n",
       "  </thead>\n",
       "  <tbody>\n",
       "    <tr>\n",
       "      <th>0</th>\n",
       "      <td>This obviously was a pretty low budget product...</td>\n",
       "      <td>0</td>\n",
       "      <td>0</td>\n",
       "    </tr>\n",
       "    <tr>\n",
       "      <th>1</th>\n",
       "      <td>My girls 4 and 6 love this show. We stumbled a...</td>\n",
       "      <td>1</td>\n",
       "      <td>1</td>\n",
       "    </tr>\n",
       "    <tr>\n",
       "      <th>2</th>\n",
       "      <td>After watching a dozen episodes, I decided to ...</td>\n",
       "      <td>0</td>\n",
       "      <td>0</td>\n",
       "    </tr>\n",
       "    <tr>\n",
       "      <th>3</th>\n",
       "      <td>One of the BEST movies I have seen in a very l...</td>\n",
       "      <td>1</td>\n",
       "      <td>1</td>\n",
       "    </tr>\n",
       "    <tr>\n",
       "      <th>4</th>\n",
       "      <td>The year 2000 had been a bad year for indian f...</td>\n",
       "      <td>1</td>\n",
       "      <td>1</td>\n",
       "    </tr>\n",
       "  </tbody>\n",
       "</table>\n",
       "</div>"
      ],
      "text/plain": [
       "                                                text  label  pred\n",
       "0  This obviously was a pretty low budget product...      0     0\n",
       "1  My girls 4 and 6 love this show. We stumbled a...      1     1\n",
       "2  After watching a dozen episodes, I decided to ...      0     0\n",
       "3  One of the BEST movies I have seen in a very l...      1     1\n",
       "4  The year 2000 had been a bad year for indian f...      1     1"
      ]
     },
     "execution_count": 32,
     "metadata": {},
     "output_type": "execute_result"
    }
   ],
   "source": [
    "res.head(5)"
   ]
  },
  {
   "cell_type": "code",
   "execution_count": 33,
   "id": "FDwvwbIokiq-",
   "metadata": {
    "colab": {
     "base_uri": "https://localhost:8080/"
    },
    "executionInfo": {
     "elapsed": 612,
     "status": "ok",
     "timestamp": 1680188412323,
     "user": {
      "displayName": "蔡琇鈞",
      "userId": "06728559442076792620"
     },
     "user_tz": -480
    },
    "id": "FDwvwbIokiq-",
    "outputId": "03f9621b-88b1-4308-dd74-758a23c06d10"
   },
   "outputs": [
    {
     "name": "stdout",
     "output_type": "stream",
     "text": [
      "test accuracy = 0.9406\n"
     ]
    }
   ],
   "source": [
    "correct = 0\n",
    "for idx, pred in enumerate(res['pred']):\n",
    "  if pred == res['label'][idx]:\n",
    "    correct += 1\n",
    "print('test accuracy = %.4f'%(correct/len(test_df)))"
   ]
  },
  {
   "cell_type": "code",
   "execution_count": null,
   "id": "831ffd11-9d59-4a1c-85ae-32305a9a2f3a",
   "metadata": {},
   "outputs": [],
   "source": []
  },
  {
   "cell_type": "code",
   "execution_count": null,
   "id": "d476938d-739d-4280-89a5-57afe78c034a",
   "metadata": {},
   "outputs": [],
   "source": []
  }
 ],
 "metadata": {
  "accelerator": "GPU",
  "colab": {
   "collapsed_sections": [
    "8zVpYXmzXyQ4",
    "RQsY2rjue4Tm",
    "4QTsH978XyRG",
    "sAaBnWzTXyQ_",
    "IJpQ20GSZOoV",
    "nMZ8wEyjab68",
    "RHzv2n2E5Zex",
    "A6GLT9fOXyRJ"
   ],
   "provenance": [
    {
     "file_id": "1Ip19o5zwF38HiPOObnKjrJVPQMpuylBr",
     "timestamp": 1681468437710
    },
    {
     "file_id": "1BOPzT2gFv9yiT5JnWAVssgfWvs3rnp7s",
     "timestamp": 1680673831672
    }
   ]
  },
  "gpuClass": "standard",
  "kernelspec": {
   "display_name": "Python 3 (ipykernel)",
   "language": "python",
   "name": "python3"
  },
  "language_info": {
   "codemirror_mode": {
    "name": "ipython",
    "version": 3
   },
   "file_extension": ".py",
   "mimetype": "text/x-python",
   "name": "python",
   "nbconvert_exporter": "python",
   "pygments_lexer": "ipython3",
   "version": "3.7.4"
  },
  "widgets": {
   "application/vnd.jupyter.widget-state+json": {
    "00c93a139acb4feb85635fe3f4cead4c": {
     "model_module": "@jupyter-widgets/base",
     "model_module_version": "1.2.0",
     "model_name": "LayoutModel",
     "state": {
      "_model_module": "@jupyter-widgets/base",
      "_model_module_version": "1.2.0",
      "_model_name": "LayoutModel",
      "_view_count": null,
      "_view_module": "@jupyter-widgets/base",
      "_view_module_version": "1.2.0",
      "_view_name": "LayoutView",
      "align_content": null,
      "align_items": null,
      "align_self": null,
      "border": null,
      "bottom": null,
      "display": null,
      "flex": null,
      "flex_flow": null,
      "grid_area": null,
      "grid_auto_columns": null,
      "grid_auto_flow": null,
      "grid_auto_rows": null,
      "grid_column": null,
      "grid_gap": null,
      "grid_row": null,
      "grid_template_areas": null,
      "grid_template_columns": null,
      "grid_template_rows": null,
      "height": null,
      "justify_content": null,
      "justify_items": null,
      "left": null,
      "margin": null,
      "max_height": null,
      "max_width": null,
      "min_height": null,
      "min_width": null,
      "object_fit": null,
      "object_position": null,
      "order": null,
      "overflow": null,
      "overflow_x": null,
      "overflow_y": null,
      "padding": null,
      "right": null,
      "top": null,
      "visibility": null,
      "width": null
     }
    },
    "00d1c5e673df47158259b5d3d6a340a4": {
     "model_module": "@jupyter-widgets/controls",
     "model_module_version": "1.5.0",
     "model_name": "DescriptionStyleModel",
     "state": {
      "_model_module": "@jupyter-widgets/controls",
      "_model_module_version": "1.5.0",
      "_model_name": "DescriptionStyleModel",
      "_view_count": null,
      "_view_module": "@jupyter-widgets/base",
      "_view_module_version": "1.2.0",
      "_view_name": "StyleView",
      "description_width": ""
     }
    },
    "0b67ce1810584a8084e4f3afc9332bda": {
     "model_module": "@jupyter-widgets/controls",
     "model_module_version": "1.5.0",
     "model_name": "ProgressStyleModel",
     "state": {
      "_model_module": "@jupyter-widgets/controls",
      "_model_module_version": "1.5.0",
      "_model_name": "ProgressStyleModel",
      "_view_count": null,
      "_view_module": "@jupyter-widgets/base",
      "_view_module_version": "1.2.0",
      "_view_name": "StyleView",
      "bar_color": null,
      "description_width": ""
     }
    },
    "0b9b98dd20b34fbeafad4b33549c8c75": {
     "model_module": "@jupyter-widgets/controls",
     "model_module_version": "1.5.0",
     "model_name": "HBoxModel",
     "state": {
      "_dom_classes": [],
      "_model_module": "@jupyter-widgets/controls",
      "_model_module_version": "1.5.0",
      "_model_name": "HBoxModel",
      "_view_count": null,
      "_view_module": "@jupyter-widgets/controls",
      "_view_module_version": "1.5.0",
      "_view_name": "HBoxView",
      "box_style": "",
      "children": [
       "IPY_MODEL_aca68689f12344a6883c03df3cbf8c6e",
       "IPY_MODEL_47176d6d235d49d49be5aac90f4ba7a1",
       "IPY_MODEL_24793b6a3f744df98cd39d9d73834051"
      ],
      "layout": "IPY_MODEL_60ce46c153dc45ad98e4825141f7a1f7"
     }
    },
    "0c34a7930aff41e19d169773b2888e3c": {
     "model_module": "@jupyter-widgets/base",
     "model_module_version": "1.2.0",
     "model_name": "LayoutModel",
     "state": {
      "_model_module": "@jupyter-widgets/base",
      "_model_module_version": "1.2.0",
      "_model_name": "LayoutModel",
      "_view_count": null,
      "_view_module": "@jupyter-widgets/base",
      "_view_module_version": "1.2.0",
      "_view_name": "LayoutView",
      "align_content": null,
      "align_items": null,
      "align_self": null,
      "border": null,
      "bottom": null,
      "display": null,
      "flex": null,
      "flex_flow": null,
      "grid_area": null,
      "grid_auto_columns": null,
      "grid_auto_flow": null,
      "grid_auto_rows": null,
      "grid_column": null,
      "grid_gap": null,
      "grid_row": null,
      "grid_template_areas": null,
      "grid_template_columns": null,
      "grid_template_rows": null,
      "height": null,
      "justify_content": null,
      "justify_items": null,
      "left": null,
      "margin": null,
      "max_height": null,
      "max_width": null,
      "min_height": null,
      "min_width": null,
      "object_fit": null,
      "object_position": null,
      "order": null,
      "overflow": null,
      "overflow_x": null,
      "overflow_y": null,
      "padding": null,
      "right": null,
      "top": null,
      "visibility": null,
      "width": null
     }
    },
    "11f652db904e4a3d9099f107a0970913": {
     "model_module": "@jupyter-widgets/controls",
     "model_module_version": "1.5.0",
     "model_name": "HTMLModel",
     "state": {
      "_dom_classes": [],
      "_model_module": "@jupyter-widgets/controls",
      "_model_module_version": "1.5.0",
      "_model_name": "HTMLModel",
      "_view_count": null,
      "_view_module": "@jupyter-widgets/controls",
      "_view_module_version": "1.5.0",
      "_view_name": "HTMLView",
      "description": "",
      "description_tooltip": null,
      "layout": "IPY_MODEL_28e1d33522bd41f98e9d294c5adfacab",
      "placeholder": "​",
      "style": "IPY_MODEL_9f7c751a9c374fe2aeb5c68e5237e9b8",
      "value": " 466k/466k [00:00&lt;00:00, 500kB/s]"
     }
    },
    "157b80cbb3944170814162ed2f184b38": {
     "model_module": "@jupyter-widgets/base",
     "model_module_version": "1.2.0",
     "model_name": "LayoutModel",
     "state": {
      "_model_module": "@jupyter-widgets/base",
      "_model_module_version": "1.2.0",
      "_model_name": "LayoutModel",
      "_view_count": null,
      "_view_module": "@jupyter-widgets/base",
      "_view_module_version": "1.2.0",
      "_view_name": "LayoutView",
      "align_content": null,
      "align_items": null,
      "align_self": null,
      "border": null,
      "bottom": null,
      "display": null,
      "flex": null,
      "flex_flow": null,
      "grid_area": null,
      "grid_auto_columns": null,
      "grid_auto_flow": null,
      "grid_auto_rows": null,
      "grid_column": null,
      "grid_gap": null,
      "grid_row": null,
      "grid_template_areas": null,
      "grid_template_columns": null,
      "grid_template_rows": null,
      "height": null,
      "justify_content": null,
      "justify_items": null,
      "left": null,
      "margin": null,
      "max_height": null,
      "max_width": null,
      "min_height": null,
      "min_width": null,
      "object_fit": null,
      "object_position": null,
      "order": null,
      "overflow": null,
      "overflow_x": null,
      "overflow_y": null,
      "padding": null,
      "right": null,
      "top": null,
      "visibility": null,
      "width": null
     }
    },
    "18882ffd62234ca2b3d66ab3199eb566": {
     "model_module": "@jupyter-widgets/controls",
     "model_module_version": "1.5.0",
     "model_name": "HTMLModel",
     "state": {
      "_dom_classes": [],
      "_model_module": "@jupyter-widgets/controls",
      "_model_module_version": "1.5.0",
      "_model_name": "HTMLModel",
      "_view_count": null,
      "_view_module": "@jupyter-widgets/controls",
      "_view_module_version": "1.5.0",
      "_view_name": "HTMLView",
      "description": "",
      "description_tooltip": null,
      "layout": "IPY_MODEL_1eaadc75a74f4c4fa26c1e05cf1654fa",
      "placeholder": "​",
      "style": "IPY_MODEL_1a8ba68ddd5f4eeea74f3766f083e16f",
      "value": "100%"
     }
    },
    "1a8ba68ddd5f4eeea74f3766f083e16f": {
     "model_module": "@jupyter-widgets/controls",
     "model_module_version": "1.5.0",
     "model_name": "DescriptionStyleModel",
     "state": {
      "_model_module": "@jupyter-widgets/controls",
      "_model_module_version": "1.5.0",
      "_model_name": "DescriptionStyleModel",
      "_view_count": null,
      "_view_module": "@jupyter-widgets/base",
      "_view_module_version": "1.2.0",
      "_view_name": "StyleView",
      "description_width": ""
     }
    },
    "1d301c7d9a62426f9a6eebd5b89e8c81": {
     "model_module": "@jupyter-widgets/controls",
     "model_module_version": "1.5.0",
     "model_name": "ProgressStyleModel",
     "state": {
      "_model_module": "@jupyter-widgets/controls",
      "_model_module_version": "1.5.0",
      "_model_name": "ProgressStyleModel",
      "_view_count": null,
      "_view_module": "@jupyter-widgets/base",
      "_view_module_version": "1.2.0",
      "_view_name": "StyleView",
      "bar_color": null,
      "description_width": ""
     }
    },
    "1eaadc75a74f4c4fa26c1e05cf1654fa": {
     "model_module": "@jupyter-widgets/base",
     "model_module_version": "1.2.0",
     "model_name": "LayoutModel",
     "state": {
      "_model_module": "@jupyter-widgets/base",
      "_model_module_version": "1.2.0",
      "_model_name": "LayoutModel",
      "_view_count": null,
      "_view_module": "@jupyter-widgets/base",
      "_view_module_version": "1.2.0",
      "_view_name": "LayoutView",
      "align_content": null,
      "align_items": null,
      "align_self": null,
      "border": null,
      "bottom": null,
      "display": null,
      "flex": null,
      "flex_flow": null,
      "grid_area": null,
      "grid_auto_columns": null,
      "grid_auto_flow": null,
      "grid_auto_rows": null,
      "grid_column": null,
      "grid_gap": null,
      "grid_row": null,
      "grid_template_areas": null,
      "grid_template_columns": null,
      "grid_template_rows": null,
      "height": null,
      "justify_content": null,
      "justify_items": null,
      "left": null,
      "margin": null,
      "max_height": null,
      "max_width": null,
      "min_height": null,
      "min_width": null,
      "object_fit": null,
      "object_position": null,
      "order": null,
      "overflow": null,
      "overflow_x": null,
      "overflow_y": null,
      "padding": null,
      "right": null,
      "top": null,
      "visibility": null,
      "width": null
     }
    },
    "24793b6a3f744df98cd39d9d73834051": {
     "model_module": "@jupyter-widgets/controls",
     "model_module_version": "1.5.0",
     "model_name": "HTMLModel",
     "state": {
      "_dom_classes": [],
      "_model_module": "@jupyter-widgets/controls",
      "_model_module_version": "1.5.0",
      "_model_name": "HTMLModel",
      "_view_count": null,
      "_view_module": "@jupyter-widgets/controls",
      "_view_module_version": "1.5.0",
      "_view_name": "HTMLView",
      "description": "",
      "description_tooltip": null,
      "layout": "IPY_MODEL_66eece2aed00420ba514b970ab9aa1c8",
      "placeholder": "​",
      "style": "IPY_MODEL_5d099322ff2142d6b0904799dd099e54",
      "value": " 570/570 [00:00&lt;00:00, 18.3kB/s]"
     }
    },
    "28e1d33522bd41f98e9d294c5adfacab": {
     "model_module": "@jupyter-widgets/base",
     "model_module_version": "1.2.0",
     "model_name": "LayoutModel",
     "state": {
      "_model_module": "@jupyter-widgets/base",
      "_model_module_version": "1.2.0",
      "_model_name": "LayoutModel",
      "_view_count": null,
      "_view_module": "@jupyter-widgets/base",
      "_view_module_version": "1.2.0",
      "_view_name": "LayoutView",
      "align_content": null,
      "align_items": null,
      "align_self": null,
      "border": null,
      "bottom": null,
      "display": null,
      "flex": null,
      "flex_flow": null,
      "grid_area": null,
      "grid_auto_columns": null,
      "grid_auto_flow": null,
      "grid_auto_rows": null,
      "grid_column": null,
      "grid_gap": null,
      "grid_row": null,
      "grid_template_areas": null,
      "grid_template_columns": null,
      "grid_template_rows": null,
      "height": null,
      "justify_content": null,
      "justify_items": null,
      "left": null,
      "margin": null,
      "max_height": null,
      "max_width": null,
      "min_height": null,
      "min_width": null,
      "object_fit": null,
      "object_position": null,
      "order": null,
      "overflow": null,
      "overflow_x": null,
      "overflow_y": null,
      "padding": null,
      "right": null,
      "top": null,
      "visibility": null,
      "width": null
     }
    },
    "29b4609c62454c6bbb72cab031ee7447": {
     "model_module": "@jupyter-widgets/controls",
     "model_module_version": "1.5.0",
     "model_name": "DescriptionStyleModel",
     "state": {
      "_model_module": "@jupyter-widgets/controls",
      "_model_module_version": "1.5.0",
      "_model_name": "DescriptionStyleModel",
      "_view_count": null,
      "_view_module": "@jupyter-widgets/base",
      "_view_module_version": "1.2.0",
      "_view_name": "StyleView",
      "description_width": ""
     }
    },
    "2a94f50ac63e452aa39dda6ed6de4835": {
     "model_module": "@jupyter-widgets/base",
     "model_module_version": "1.2.0",
     "model_name": "LayoutModel",
     "state": {
      "_model_module": "@jupyter-widgets/base",
      "_model_module_version": "1.2.0",
      "_model_name": "LayoutModel",
      "_view_count": null,
      "_view_module": "@jupyter-widgets/base",
      "_view_module_version": "1.2.0",
      "_view_name": "LayoutView",
      "align_content": null,
      "align_items": null,
      "align_self": null,
      "border": null,
      "bottom": null,
      "display": null,
      "flex": null,
      "flex_flow": null,
      "grid_area": null,
      "grid_auto_columns": null,
      "grid_auto_flow": null,
      "grid_auto_rows": null,
      "grid_column": null,
      "grid_gap": null,
      "grid_row": null,
      "grid_template_areas": null,
      "grid_template_columns": null,
      "grid_template_rows": null,
      "height": null,
      "justify_content": null,
      "justify_items": null,
      "left": null,
      "margin": null,
      "max_height": null,
      "max_width": null,
      "min_height": null,
      "min_width": null,
      "object_fit": null,
      "object_position": null,
      "order": null,
      "overflow": null,
      "overflow_x": null,
      "overflow_y": null,
      "padding": null,
      "right": null,
      "top": null,
      "visibility": null,
      "width": null
     }
    },
    "2ce5426a69d44872a922fe5d5440c9ad": {
     "model_module": "@jupyter-widgets/controls",
     "model_module_version": "1.5.0",
     "model_name": "HTMLModel",
     "state": {
      "_dom_classes": [],
      "_model_module": "@jupyter-widgets/controls",
      "_model_module_version": "1.5.0",
      "_model_name": "HTMLModel",
      "_view_count": null,
      "_view_module": "@jupyter-widgets/controls",
      "_view_module_version": "1.5.0",
      "_view_name": "HTMLView",
      "description": "",
      "description_tooltip": null,
      "layout": "IPY_MODEL_0c34a7930aff41e19d169773b2888e3c",
      "placeholder": "​",
      "style": "IPY_MODEL_638cbc56b96b43398e9ec45dd9d4a887",
      "value": " 3/3 [00:00&lt;00:00, 92.83it/s]"
     }
    },
    "2da7af5b7f6b4df8aaf8b6c6260b9442": {
     "model_module": "@jupyter-widgets/base",
     "model_module_version": "1.2.0",
     "model_name": "LayoutModel",
     "state": {
      "_model_module": "@jupyter-widgets/base",
      "_model_module_version": "1.2.0",
      "_model_name": "LayoutModel",
      "_view_count": null,
      "_view_module": "@jupyter-widgets/base",
      "_view_module_version": "1.2.0",
      "_view_name": "LayoutView",
      "align_content": null,
      "align_items": null,
      "align_self": null,
      "border": null,
      "bottom": null,
      "display": null,
      "flex": null,
      "flex_flow": null,
      "grid_area": null,
      "grid_auto_columns": null,
      "grid_auto_flow": null,
      "grid_auto_rows": null,
      "grid_column": null,
      "grid_gap": null,
      "grid_row": null,
      "grid_template_areas": null,
      "grid_template_columns": null,
      "grid_template_rows": null,
      "height": null,
      "justify_content": null,
      "justify_items": null,
      "left": null,
      "margin": null,
      "max_height": null,
      "max_width": null,
      "min_height": null,
      "min_width": null,
      "object_fit": null,
      "object_position": null,
      "order": null,
      "overflow": null,
      "overflow_x": null,
      "overflow_y": null,
      "padding": null,
      "right": null,
      "top": null,
      "visibility": null,
      "width": null
     }
    },
    "31407c3417e946969edc1594d32e23bf": {
     "model_module": "@jupyter-widgets/controls",
     "model_module_version": "1.5.0",
     "model_name": "HTMLModel",
     "state": {
      "_dom_classes": [],
      "_model_module": "@jupyter-widgets/controls",
      "_model_module_version": "1.5.0",
      "_model_name": "HTMLModel",
      "_view_count": null,
      "_view_module": "@jupyter-widgets/controls",
      "_view_module_version": "1.5.0",
      "_view_name": "HTMLView",
      "description": "",
      "description_tooltip": null,
      "layout": "IPY_MODEL_3bcfaf0108064bb9b5f04d2c781de8c1",
      "placeholder": "​",
      "style": "IPY_MODEL_917141f226a5439ab8870072cdce72da",
      "value": " 28.0/28.0 [00:00&lt;00:00, 1.05kB/s]"
     }
    },
    "318c84f3612a4353ac8b4a3f78f0e74d": {
     "model_module": "@jupyter-widgets/base",
     "model_module_version": "1.2.0",
     "model_name": "LayoutModel",
     "state": {
      "_model_module": "@jupyter-widgets/base",
      "_model_module_version": "1.2.0",
      "_model_name": "LayoutModel",
      "_view_count": null,
      "_view_module": "@jupyter-widgets/base",
      "_view_module_version": "1.2.0",
      "_view_name": "LayoutView",
      "align_content": null,
      "align_items": null,
      "align_self": null,
      "border": null,
      "bottom": null,
      "display": null,
      "flex": null,
      "flex_flow": null,
      "grid_area": null,
      "grid_auto_columns": null,
      "grid_auto_flow": null,
      "grid_auto_rows": null,
      "grid_column": null,
      "grid_gap": null,
      "grid_row": null,
      "grid_template_areas": null,
      "grid_template_columns": null,
      "grid_template_rows": null,
      "height": null,
      "justify_content": null,
      "justify_items": null,
      "left": null,
      "margin": null,
      "max_height": null,
      "max_width": null,
      "min_height": null,
      "min_width": null,
      "object_fit": null,
      "object_position": null,
      "order": null,
      "overflow": null,
      "overflow_x": null,
      "overflow_y": null,
      "padding": null,
      "right": null,
      "top": null,
      "visibility": null,
      "width": null
     }
    },
    "38625ce8b6bd44bfba2092e07fe2b0b2": {
     "model_module": "@jupyter-widgets/base",
     "model_module_version": "1.2.0",
     "model_name": "LayoutModel",
     "state": {
      "_model_module": "@jupyter-widgets/base",
      "_model_module_version": "1.2.0",
      "_model_name": "LayoutModel",
      "_view_count": null,
      "_view_module": "@jupyter-widgets/base",
      "_view_module_version": "1.2.0",
      "_view_name": "LayoutView",
      "align_content": null,
      "align_items": null,
      "align_self": null,
      "border": null,
      "bottom": null,
      "display": null,
      "flex": null,
      "flex_flow": null,
      "grid_area": null,
      "grid_auto_columns": null,
      "grid_auto_flow": null,
      "grid_auto_rows": null,
      "grid_column": null,
      "grid_gap": null,
      "grid_row": null,
      "grid_template_areas": null,
      "grid_template_columns": null,
      "grid_template_rows": null,
      "height": null,
      "justify_content": null,
      "justify_items": null,
      "left": null,
      "margin": null,
      "max_height": null,
      "max_width": null,
      "min_height": null,
      "min_width": null,
      "object_fit": null,
      "object_position": null,
      "order": null,
      "overflow": null,
      "overflow_x": null,
      "overflow_y": null,
      "padding": null,
      "right": null,
      "top": null,
      "visibility": null,
      "width": null
     }
    },
    "3bcfaf0108064bb9b5f04d2c781de8c1": {
     "model_module": "@jupyter-widgets/base",
     "model_module_version": "1.2.0",
     "model_name": "LayoutModel",
     "state": {
      "_model_module": "@jupyter-widgets/base",
      "_model_module_version": "1.2.0",
      "_model_name": "LayoutModel",
      "_view_count": null,
      "_view_module": "@jupyter-widgets/base",
      "_view_module_version": "1.2.0",
      "_view_name": "LayoutView",
      "align_content": null,
      "align_items": null,
      "align_self": null,
      "border": null,
      "bottom": null,
      "display": null,
      "flex": null,
      "flex_flow": null,
      "grid_area": null,
      "grid_auto_columns": null,
      "grid_auto_flow": null,
      "grid_auto_rows": null,
      "grid_column": null,
      "grid_gap": null,
      "grid_row": null,
      "grid_template_areas": null,
      "grid_template_columns": null,
      "grid_template_rows": null,
      "height": null,
      "justify_content": null,
      "justify_items": null,
      "left": null,
      "margin": null,
      "max_height": null,
      "max_width": null,
      "min_height": null,
      "min_width": null,
      "object_fit": null,
      "object_position": null,
      "order": null,
      "overflow": null,
      "overflow_x": null,
      "overflow_y": null,
      "padding": null,
      "right": null,
      "top": null,
      "visibility": null,
      "width": null
     }
    },
    "403085f73c494e909cc11d98e41d63eb": {
     "model_module": "@jupyter-widgets/base",
     "model_module_version": "1.2.0",
     "model_name": "LayoutModel",
     "state": {
      "_model_module": "@jupyter-widgets/base",
      "_model_module_version": "1.2.0",
      "_model_name": "LayoutModel",
      "_view_count": null,
      "_view_module": "@jupyter-widgets/base",
      "_view_module_version": "1.2.0",
      "_view_name": "LayoutView",
      "align_content": null,
      "align_items": null,
      "align_self": null,
      "border": null,
      "bottom": null,
      "display": null,
      "flex": null,
      "flex_flow": null,
      "grid_area": null,
      "grid_auto_columns": null,
      "grid_auto_flow": null,
      "grid_auto_rows": null,
      "grid_column": null,
      "grid_gap": null,
      "grid_row": null,
      "grid_template_areas": null,
      "grid_template_columns": null,
      "grid_template_rows": null,
      "height": null,
      "justify_content": null,
      "justify_items": null,
      "left": null,
      "margin": null,
      "max_height": null,
      "max_width": null,
      "min_height": null,
      "min_width": null,
      "object_fit": null,
      "object_position": null,
      "order": null,
      "overflow": null,
      "overflow_x": null,
      "overflow_y": null,
      "padding": null,
      "right": null,
      "top": null,
      "visibility": null,
      "width": null
     }
    },
    "404e383ede1f4bd29b468bcc269f85a6": {
     "model_module": "@jupyter-widgets/controls",
     "model_module_version": "1.5.0",
     "model_name": "HTMLModel",
     "state": {
      "_dom_classes": [],
      "_model_module": "@jupyter-widgets/controls",
      "_model_module_version": "1.5.0",
      "_model_name": "HTMLModel",
      "_view_count": null,
      "_view_module": "@jupyter-widgets/controls",
      "_view_module_version": "1.5.0",
      "_view_name": "HTMLView",
      "description": "",
      "description_tooltip": null,
      "layout": "IPY_MODEL_2a94f50ac63e452aa39dda6ed6de4835",
      "placeholder": "​",
      "style": "IPY_MODEL_541dfb5b2cbe44688e557ba5383b1cb0",
      "value": " 232k/232k [00:00&lt;00:00, 330kB/s]"
     }
    },
    "4160fe68060d47f482decec668c34ecf": {
     "model_module": "@jupyter-widgets/controls",
     "model_module_version": "1.5.0",
     "model_name": "FloatProgressModel",
     "state": {
      "_dom_classes": [],
      "_model_module": "@jupyter-widgets/controls",
      "_model_module_version": "1.5.0",
      "_model_name": "FloatProgressModel",
      "_view_count": null,
      "_view_module": "@jupyter-widgets/controls",
      "_view_module_version": "1.5.0",
      "_view_name": "ProgressView",
      "bar_style": "success",
      "description": "",
      "description_tooltip": null,
      "layout": "IPY_MODEL_2da7af5b7f6b4df8aaf8b6c6260b9442",
      "max": 440473133,
      "min": 0,
      "orientation": "horizontal",
      "style": "IPY_MODEL_5bfe02d68f5c45399e7458239fb98175",
      "value": 440473133
     }
    },
    "47176d6d235d49d49be5aac90f4ba7a1": {
     "model_module": "@jupyter-widgets/controls",
     "model_module_version": "1.5.0",
     "model_name": "FloatProgressModel",
     "state": {
      "_dom_classes": [],
      "_model_module": "@jupyter-widgets/controls",
      "_model_module_version": "1.5.0",
      "_model_name": "FloatProgressModel",
      "_view_count": null,
      "_view_module": "@jupyter-widgets/controls",
      "_view_module_version": "1.5.0",
      "_view_name": "ProgressView",
      "bar_style": "success",
      "description": "",
      "description_tooltip": null,
      "layout": "IPY_MODEL_318c84f3612a4353ac8b4a3f78f0e74d",
      "max": 570,
      "min": 0,
      "orientation": "horizontal",
      "style": "IPY_MODEL_b2f32e5cbdba4a90bf81a9daf94f31d5",
      "value": 570
     }
    },
    "50e908f22cfe4693b2a7726dca5939ec": {
     "model_module": "@jupyter-widgets/base",
     "model_module_version": "1.2.0",
     "model_name": "LayoutModel",
     "state": {
      "_model_module": "@jupyter-widgets/base",
      "_model_module_version": "1.2.0",
      "_model_name": "LayoutModel",
      "_view_count": null,
      "_view_module": "@jupyter-widgets/base",
      "_view_module_version": "1.2.0",
      "_view_name": "LayoutView",
      "align_content": null,
      "align_items": null,
      "align_self": null,
      "border": null,
      "bottom": null,
      "display": null,
      "flex": null,
      "flex_flow": null,
      "grid_area": null,
      "grid_auto_columns": null,
      "grid_auto_flow": null,
      "grid_auto_rows": null,
      "grid_column": null,
      "grid_gap": null,
      "grid_row": null,
      "grid_template_areas": null,
      "grid_template_columns": null,
      "grid_template_rows": null,
      "height": null,
      "justify_content": null,
      "justify_items": null,
      "left": null,
      "margin": null,
      "max_height": null,
      "max_width": null,
      "min_height": null,
      "min_width": null,
      "object_fit": null,
      "object_position": null,
      "order": null,
      "overflow": null,
      "overflow_x": null,
      "overflow_y": null,
      "padding": null,
      "right": null,
      "top": null,
      "visibility": null,
      "width": null
     }
    },
    "5149fdd1f551405bab6e35e9c126fa9d": {
     "model_module": "@jupyter-widgets/controls",
     "model_module_version": "1.5.0",
     "model_name": "FloatProgressModel",
     "state": {
      "_dom_classes": [],
      "_model_module": "@jupyter-widgets/controls",
      "_model_module_version": "1.5.0",
      "_model_name": "FloatProgressModel",
      "_view_count": null,
      "_view_module": "@jupyter-widgets/controls",
      "_view_module_version": "1.5.0",
      "_view_name": "ProgressView",
      "bar_style": "success",
      "description": "",
      "description_tooltip": null,
      "layout": "IPY_MODEL_69220d4b77d240d9a285ee6e64dc56c0",
      "max": 466062,
      "min": 0,
      "orientation": "horizontal",
      "style": "IPY_MODEL_e3039a327f8b4781b7ce5172d79a8b7e",
      "value": 466062
     }
    },
    "52057265ba9242d487b28eae01a34067": {
     "model_module": "@jupyter-widgets/base",
     "model_module_version": "1.2.0",
     "model_name": "LayoutModel",
     "state": {
      "_model_module": "@jupyter-widgets/base",
      "_model_module_version": "1.2.0",
      "_model_name": "LayoutModel",
      "_view_count": null,
      "_view_module": "@jupyter-widgets/base",
      "_view_module_version": "1.2.0",
      "_view_name": "LayoutView",
      "align_content": null,
      "align_items": null,
      "align_self": null,
      "border": null,
      "bottom": null,
      "display": null,
      "flex": null,
      "flex_flow": null,
      "grid_area": null,
      "grid_auto_columns": null,
      "grid_auto_flow": null,
      "grid_auto_rows": null,
      "grid_column": null,
      "grid_gap": null,
      "grid_row": null,
      "grid_template_areas": null,
      "grid_template_columns": null,
      "grid_template_rows": null,
      "height": null,
      "justify_content": null,
      "justify_items": null,
      "left": null,
      "margin": null,
      "max_height": null,
      "max_width": null,
      "min_height": null,
      "min_width": null,
      "object_fit": null,
      "object_position": null,
      "order": null,
      "overflow": null,
      "overflow_x": null,
      "overflow_y": null,
      "padding": null,
      "right": null,
      "top": null,
      "visibility": null,
      "width": null
     }
    },
    "541dfb5b2cbe44688e557ba5383b1cb0": {
     "model_module": "@jupyter-widgets/controls",
     "model_module_version": "1.5.0",
     "model_name": "DescriptionStyleModel",
     "state": {
      "_model_module": "@jupyter-widgets/controls",
      "_model_module_version": "1.5.0",
      "_model_name": "DescriptionStyleModel",
      "_view_count": null,
      "_view_module": "@jupyter-widgets/base",
      "_view_module_version": "1.2.0",
      "_view_name": "StyleView",
      "description_width": ""
     }
    },
    "58e7b8dbabe54304b9c099107c26636c": {
     "model_module": "@jupyter-widgets/controls",
     "model_module_version": "1.5.0",
     "model_name": "HBoxModel",
     "state": {
      "_dom_classes": [],
      "_model_module": "@jupyter-widgets/controls",
      "_model_module_version": "1.5.0",
      "_model_name": "HBoxModel",
      "_view_count": null,
      "_view_module": "@jupyter-widgets/controls",
      "_view_module_version": "1.5.0",
      "_view_name": "HBoxView",
      "box_style": "",
      "children": [
       "IPY_MODEL_bfb52e0aa1514290a9cb3960b118ff3d",
       "IPY_MODEL_5149fdd1f551405bab6e35e9c126fa9d",
       "IPY_MODEL_11f652db904e4a3d9099f107a0970913"
      ],
      "layout": "IPY_MODEL_403085f73c494e909cc11d98e41d63eb"
     }
    },
    "59af50f94da7438e9c716ce8bf735c59": {
     "model_module": "@jupyter-widgets/controls",
     "model_module_version": "1.5.0",
     "model_name": "HTMLModel",
     "state": {
      "_dom_classes": [],
      "_model_module": "@jupyter-widgets/controls",
      "_model_module_version": "1.5.0",
      "_model_name": "HTMLModel",
      "_view_count": null,
      "_view_module": "@jupyter-widgets/controls",
      "_view_module_version": "1.5.0",
      "_view_name": "HTMLView",
      "description": "",
      "description_tooltip": null,
      "layout": "IPY_MODEL_157b80cbb3944170814162ed2f184b38",
      "placeholder": "​",
      "style": "IPY_MODEL_afbbef3074814f5ab53b088d26a5b99f",
      "value": " 440M/440M [00:05&lt;00:00, 79.6MB/s]"
     }
    },
    "5bfe02d68f5c45399e7458239fb98175": {
     "model_module": "@jupyter-widgets/controls",
     "model_module_version": "1.5.0",
     "model_name": "ProgressStyleModel",
     "state": {
      "_model_module": "@jupyter-widgets/controls",
      "_model_module_version": "1.5.0",
      "_model_name": "ProgressStyleModel",
      "_view_count": null,
      "_view_module": "@jupyter-widgets/base",
      "_view_module_version": "1.2.0",
      "_view_name": "StyleView",
      "bar_color": null,
      "description_width": ""
     }
    },
    "5d099322ff2142d6b0904799dd099e54": {
     "model_module": "@jupyter-widgets/controls",
     "model_module_version": "1.5.0",
     "model_name": "DescriptionStyleModel",
     "state": {
      "_model_module": "@jupyter-widgets/controls",
      "_model_module_version": "1.5.0",
      "_model_name": "DescriptionStyleModel",
      "_view_count": null,
      "_view_module": "@jupyter-widgets/base",
      "_view_module_version": "1.2.0",
      "_view_name": "StyleView",
      "description_width": ""
     }
    },
    "5d2d8770123d4f46b890e25893bfba35": {
     "model_module": "@jupyter-widgets/base",
     "model_module_version": "1.2.0",
     "model_name": "LayoutModel",
     "state": {
      "_model_module": "@jupyter-widgets/base",
      "_model_module_version": "1.2.0",
      "_model_name": "LayoutModel",
      "_view_count": null,
      "_view_module": "@jupyter-widgets/base",
      "_view_module_version": "1.2.0",
      "_view_name": "LayoutView",
      "align_content": null,
      "align_items": null,
      "align_self": null,
      "border": null,
      "bottom": null,
      "display": null,
      "flex": null,
      "flex_flow": null,
      "grid_area": null,
      "grid_auto_columns": null,
      "grid_auto_flow": null,
      "grid_auto_rows": null,
      "grid_column": null,
      "grid_gap": null,
      "grid_row": null,
      "grid_template_areas": null,
      "grid_template_columns": null,
      "grid_template_rows": null,
      "height": null,
      "justify_content": null,
      "justify_items": null,
      "left": null,
      "margin": null,
      "max_height": null,
      "max_width": null,
      "min_height": null,
      "min_width": null,
      "object_fit": null,
      "object_position": null,
      "order": null,
      "overflow": null,
      "overflow_x": null,
      "overflow_y": null,
      "padding": null,
      "right": null,
      "top": null,
      "visibility": null,
      "width": null
     }
    },
    "5f964809ce48437a887cbfe14a66af22": {
     "model_module": "@jupyter-widgets/controls",
     "model_module_version": "1.5.0",
     "model_name": "HBoxModel",
     "state": {
      "_dom_classes": [],
      "_model_module": "@jupyter-widgets/controls",
      "_model_module_version": "1.5.0",
      "_model_name": "HBoxModel",
      "_view_count": null,
      "_view_module": "@jupyter-widgets/controls",
      "_view_module_version": "1.5.0",
      "_view_name": "HBoxView",
      "box_style": "",
      "children": [
       "IPY_MODEL_91a62fb0f73745fb80db1d377e32cdd4",
       "IPY_MODEL_77fb1652fd744facbbed9b8a23be8457",
       "IPY_MODEL_31407c3417e946969edc1594d32e23bf"
      ],
      "layout": "IPY_MODEL_e0d6a278f5ca4506bb129824e9ce2617"
     }
    },
    "60ce46c153dc45ad98e4825141f7a1f7": {
     "model_module": "@jupyter-widgets/base",
     "model_module_version": "1.2.0",
     "model_name": "LayoutModel",
     "state": {
      "_model_module": "@jupyter-widgets/base",
      "_model_module_version": "1.2.0",
      "_model_name": "LayoutModel",
      "_view_count": null,
      "_view_module": "@jupyter-widgets/base",
      "_view_module_version": "1.2.0",
      "_view_name": "LayoutView",
      "align_content": null,
      "align_items": null,
      "align_self": null,
      "border": null,
      "bottom": null,
      "display": null,
      "flex": null,
      "flex_flow": null,
      "grid_area": null,
      "grid_auto_columns": null,
      "grid_auto_flow": null,
      "grid_auto_rows": null,
      "grid_column": null,
      "grid_gap": null,
      "grid_row": null,
      "grid_template_areas": null,
      "grid_template_columns": null,
      "grid_template_rows": null,
      "height": null,
      "justify_content": null,
      "justify_items": null,
      "left": null,
      "margin": null,
      "max_height": null,
      "max_width": null,
      "min_height": null,
      "min_width": null,
      "object_fit": null,
      "object_position": null,
      "order": null,
      "overflow": null,
      "overflow_x": null,
      "overflow_y": null,
      "padding": null,
      "right": null,
      "top": null,
      "visibility": null,
      "width": null
     }
    },
    "638cbc56b96b43398e9ec45dd9d4a887": {
     "model_module": "@jupyter-widgets/controls",
     "model_module_version": "1.5.0",
     "model_name": "DescriptionStyleModel",
     "state": {
      "_model_module": "@jupyter-widgets/controls",
      "_model_module_version": "1.5.0",
      "_model_name": "DescriptionStyleModel",
      "_view_count": null,
      "_view_module": "@jupyter-widgets/base",
      "_view_module_version": "1.2.0",
      "_view_name": "StyleView",
      "description_width": ""
     }
    },
    "63ee62d39e1c450987eef3171e1cdfb0": {
     "model_module": "@jupyter-widgets/controls",
     "model_module_version": "1.5.0",
     "model_name": "HBoxModel",
     "state": {
      "_dom_classes": [],
      "_model_module": "@jupyter-widgets/controls",
      "_model_module_version": "1.5.0",
      "_model_name": "HBoxModel",
      "_view_count": null,
      "_view_module": "@jupyter-widgets/controls",
      "_view_module_version": "1.5.0",
      "_view_name": "HBoxView",
      "box_style": "",
      "children": [
       "IPY_MODEL_de66e4686eef45a4a76f4e170c722d9a",
       "IPY_MODEL_f8efa2ff06fa4ab6b4876dfbf028e540",
       "IPY_MODEL_404e383ede1f4bd29b468bcc269f85a6"
      ],
      "layout": "IPY_MODEL_38625ce8b6bd44bfba2092e07fe2b0b2"
     }
    },
    "66eece2aed00420ba514b970ab9aa1c8": {
     "model_module": "@jupyter-widgets/base",
     "model_module_version": "1.2.0",
     "model_name": "LayoutModel",
     "state": {
      "_model_module": "@jupyter-widgets/base",
      "_model_module_version": "1.2.0",
      "_model_name": "LayoutModel",
      "_view_count": null,
      "_view_module": "@jupyter-widgets/base",
      "_view_module_version": "1.2.0",
      "_view_name": "LayoutView",
      "align_content": null,
      "align_items": null,
      "align_self": null,
      "border": null,
      "bottom": null,
      "display": null,
      "flex": null,
      "flex_flow": null,
      "grid_area": null,
      "grid_auto_columns": null,
      "grid_auto_flow": null,
      "grid_auto_rows": null,
      "grid_column": null,
      "grid_gap": null,
      "grid_row": null,
      "grid_template_areas": null,
      "grid_template_columns": null,
      "grid_template_rows": null,
      "height": null,
      "justify_content": null,
      "justify_items": null,
      "left": null,
      "margin": null,
      "max_height": null,
      "max_width": null,
      "min_height": null,
      "min_width": null,
      "object_fit": null,
      "object_position": null,
      "order": null,
      "overflow": null,
      "overflow_x": null,
      "overflow_y": null,
      "padding": null,
      "right": null,
      "top": null,
      "visibility": null,
      "width": null
     }
    },
    "69220d4b77d240d9a285ee6e64dc56c0": {
     "model_module": "@jupyter-widgets/base",
     "model_module_version": "1.2.0",
     "model_name": "LayoutModel",
     "state": {
      "_model_module": "@jupyter-widgets/base",
      "_model_module_version": "1.2.0",
      "_model_name": "LayoutModel",
      "_view_count": null,
      "_view_module": "@jupyter-widgets/base",
      "_view_module_version": "1.2.0",
      "_view_name": "LayoutView",
      "align_content": null,
      "align_items": null,
      "align_self": null,
      "border": null,
      "bottom": null,
      "display": null,
      "flex": null,
      "flex_flow": null,
      "grid_area": null,
      "grid_auto_columns": null,
      "grid_auto_flow": null,
      "grid_auto_rows": null,
      "grid_column": null,
      "grid_gap": null,
      "grid_row": null,
      "grid_template_areas": null,
      "grid_template_columns": null,
      "grid_template_rows": null,
      "height": null,
      "justify_content": null,
      "justify_items": null,
      "left": null,
      "margin": null,
      "max_height": null,
      "max_width": null,
      "min_height": null,
      "min_width": null,
      "object_fit": null,
      "object_position": null,
      "order": null,
      "overflow": null,
      "overflow_x": null,
      "overflow_y": null,
      "padding": null,
      "right": null,
      "top": null,
      "visibility": null,
      "width": null
     }
    },
    "6e4919189cfd46789dce044a39ad4e46": {
     "model_module": "@jupyter-widgets/base",
     "model_module_version": "1.2.0",
     "model_name": "LayoutModel",
     "state": {
      "_model_module": "@jupyter-widgets/base",
      "_model_module_version": "1.2.0",
      "_model_name": "LayoutModel",
      "_view_count": null,
      "_view_module": "@jupyter-widgets/base",
      "_view_module_version": "1.2.0",
      "_view_name": "LayoutView",
      "align_content": null,
      "align_items": null,
      "align_self": null,
      "border": null,
      "bottom": null,
      "display": null,
      "flex": null,
      "flex_flow": null,
      "grid_area": null,
      "grid_auto_columns": null,
      "grid_auto_flow": null,
      "grid_auto_rows": null,
      "grid_column": null,
      "grid_gap": null,
      "grid_row": null,
      "grid_template_areas": null,
      "grid_template_columns": null,
      "grid_template_rows": null,
      "height": null,
      "justify_content": null,
      "justify_items": null,
      "left": null,
      "margin": null,
      "max_height": null,
      "max_width": null,
      "min_height": null,
      "min_width": null,
      "object_fit": null,
      "object_position": null,
      "order": null,
      "overflow": null,
      "overflow_x": null,
      "overflow_y": null,
      "padding": null,
      "right": null,
      "top": null,
      "visibility": null,
      "width": null
     }
    },
    "73f0980c9bca44f4aa662e4ca46572f0": {
     "model_module": "@jupyter-widgets/controls",
     "model_module_version": "1.5.0",
     "model_name": "FloatProgressModel",
     "state": {
      "_dom_classes": [],
      "_model_module": "@jupyter-widgets/controls",
      "_model_module_version": "1.5.0",
      "_model_name": "FloatProgressModel",
      "_view_count": null,
      "_view_module": "@jupyter-widgets/controls",
      "_view_module_version": "1.5.0",
      "_view_name": "ProgressView",
      "bar_style": "success",
      "description": "",
      "description_tooltip": null,
      "layout": "IPY_MODEL_75fc56b2fa784385ab2a78c565211ded",
      "max": 3,
      "min": 0,
      "orientation": "horizontal",
      "style": "IPY_MODEL_1d301c7d9a62426f9a6eebd5b89e8c81",
      "value": 3
     }
    },
    "75fc56b2fa784385ab2a78c565211ded": {
     "model_module": "@jupyter-widgets/base",
     "model_module_version": "1.2.0",
     "model_name": "LayoutModel",
     "state": {
      "_model_module": "@jupyter-widgets/base",
      "_model_module_version": "1.2.0",
      "_model_name": "LayoutModel",
      "_view_count": null,
      "_view_module": "@jupyter-widgets/base",
      "_view_module_version": "1.2.0",
      "_view_name": "LayoutView",
      "align_content": null,
      "align_items": null,
      "align_self": null,
      "border": null,
      "bottom": null,
      "display": null,
      "flex": null,
      "flex_flow": null,
      "grid_area": null,
      "grid_auto_columns": null,
      "grid_auto_flow": null,
      "grid_auto_rows": null,
      "grid_column": null,
      "grid_gap": null,
      "grid_row": null,
      "grid_template_areas": null,
      "grid_template_columns": null,
      "grid_template_rows": null,
      "height": null,
      "justify_content": null,
      "justify_items": null,
      "left": null,
      "margin": null,
      "max_height": null,
      "max_width": null,
      "min_height": null,
      "min_width": null,
      "object_fit": null,
      "object_position": null,
      "order": null,
      "overflow": null,
      "overflow_x": null,
      "overflow_y": null,
      "padding": null,
      "right": null,
      "top": null,
      "visibility": null,
      "width": null
     }
    },
    "77fb1652fd744facbbed9b8a23be8457": {
     "model_module": "@jupyter-widgets/controls",
     "model_module_version": "1.5.0",
     "model_name": "FloatProgressModel",
     "state": {
      "_dom_classes": [],
      "_model_module": "@jupyter-widgets/controls",
      "_model_module_version": "1.5.0",
      "_model_name": "FloatProgressModel",
      "_view_count": null,
      "_view_module": "@jupyter-widgets/controls",
      "_view_module_version": "1.5.0",
      "_view_name": "ProgressView",
      "bar_style": "success",
      "description": "",
      "description_tooltip": null,
      "layout": "IPY_MODEL_f3b87fc4cbae49049e0834f01843352b",
      "max": 28,
      "min": 0,
      "orientation": "horizontal",
      "style": "IPY_MODEL_0b67ce1810584a8084e4f3afc9332bda",
      "value": 28
     }
    },
    "85dadfa727544b069d4ebe0a7e06dd5b": {
     "model_module": "@jupyter-widgets/controls",
     "model_module_version": "1.5.0",
     "model_name": "HBoxModel",
     "state": {
      "_dom_classes": [],
      "_model_module": "@jupyter-widgets/controls",
      "_model_module_version": "1.5.0",
      "_model_name": "HBoxModel",
      "_view_count": null,
      "_view_module": "@jupyter-widgets/controls",
      "_view_module_version": "1.5.0",
      "_view_name": "HBoxView",
      "box_style": "",
      "children": [
       "IPY_MODEL_8efc237edd3b4c76b7cea099fb48fa92",
       "IPY_MODEL_4160fe68060d47f482decec668c34ecf",
       "IPY_MODEL_59af50f94da7438e9c716ce8bf735c59"
      ],
      "layout": "IPY_MODEL_5d2d8770123d4f46b890e25893bfba35"
     }
    },
    "8b475f04a8b64db0b096da99dc401bd6": {
     "model_module": "@jupyter-widgets/controls",
     "model_module_version": "1.5.0",
     "model_name": "DescriptionStyleModel",
     "state": {
      "_model_module": "@jupyter-widgets/controls",
      "_model_module_version": "1.5.0",
      "_model_name": "DescriptionStyleModel",
      "_view_count": null,
      "_view_module": "@jupyter-widgets/base",
      "_view_module_version": "1.2.0",
      "_view_name": "StyleView",
      "description_width": ""
     }
    },
    "8efc237edd3b4c76b7cea099fb48fa92": {
     "model_module": "@jupyter-widgets/controls",
     "model_module_version": "1.5.0",
     "model_name": "HTMLModel",
     "state": {
      "_dom_classes": [],
      "_model_module": "@jupyter-widgets/controls",
      "_model_module_version": "1.5.0",
      "_model_name": "HTMLModel",
      "_view_count": null,
      "_view_module": "@jupyter-widgets/controls",
      "_view_module_version": "1.5.0",
      "_view_name": "HTMLView",
      "description": "",
      "description_tooltip": null,
      "layout": "IPY_MODEL_f82a5ea6dcc34c2c943d07e67efe1e59",
      "placeholder": "​",
      "style": "IPY_MODEL_29b4609c62454c6bbb72cab031ee7447",
      "value": "Downloading pytorch_model.bin: 100%"
     }
    },
    "917141f226a5439ab8870072cdce72da": {
     "model_module": "@jupyter-widgets/controls",
     "model_module_version": "1.5.0",
     "model_name": "DescriptionStyleModel",
     "state": {
      "_model_module": "@jupyter-widgets/controls",
      "_model_module_version": "1.5.0",
      "_model_name": "DescriptionStyleModel",
      "_view_count": null,
      "_view_module": "@jupyter-widgets/base",
      "_view_module_version": "1.2.0",
      "_view_name": "StyleView",
      "description_width": ""
     }
    },
    "91a62fb0f73745fb80db1d377e32cdd4": {
     "model_module": "@jupyter-widgets/controls",
     "model_module_version": "1.5.0",
     "model_name": "HTMLModel",
     "state": {
      "_dom_classes": [],
      "_model_module": "@jupyter-widgets/controls",
      "_model_module_version": "1.5.0",
      "_model_name": "HTMLModel",
      "_view_count": null,
      "_view_module": "@jupyter-widgets/controls",
      "_view_module_version": "1.5.0",
      "_view_name": "HTMLView",
      "description": "",
      "description_tooltip": null,
      "layout": "IPY_MODEL_52057265ba9242d487b28eae01a34067",
      "placeholder": "​",
      "style": "IPY_MODEL_8b475f04a8b64db0b096da99dc401bd6",
      "value": "Downloading (…)okenizer_config.json: 100%"
     }
    },
    "9f7c751a9c374fe2aeb5c68e5237e9b8": {
     "model_module": "@jupyter-widgets/controls",
     "model_module_version": "1.5.0",
     "model_name": "DescriptionStyleModel",
     "state": {
      "_model_module": "@jupyter-widgets/controls",
      "_model_module_version": "1.5.0",
      "_model_name": "DescriptionStyleModel",
      "_view_count": null,
      "_view_module": "@jupyter-widgets/base",
      "_view_module_version": "1.2.0",
      "_view_name": "StyleView",
      "description_width": ""
     }
    },
    "aca68689f12344a6883c03df3cbf8c6e": {
     "model_module": "@jupyter-widgets/controls",
     "model_module_version": "1.5.0",
     "model_name": "HTMLModel",
     "state": {
      "_dom_classes": [],
      "_model_module": "@jupyter-widgets/controls",
      "_model_module_version": "1.5.0",
      "_model_name": "HTMLModel",
      "_view_count": null,
      "_view_module": "@jupyter-widgets/controls",
      "_view_module_version": "1.5.0",
      "_view_name": "HTMLView",
      "description": "",
      "description_tooltip": null,
      "layout": "IPY_MODEL_6e4919189cfd46789dce044a39ad4e46",
      "placeholder": "​",
      "style": "IPY_MODEL_b15185d68cd24f98b9a4d5b0e42e75e7",
      "value": "Downloading (…)lve/main/config.json: 100%"
     }
    },
    "afbbef3074814f5ab53b088d26a5b99f": {
     "model_module": "@jupyter-widgets/controls",
     "model_module_version": "1.5.0",
     "model_name": "DescriptionStyleModel",
     "state": {
      "_model_module": "@jupyter-widgets/controls",
      "_model_module_version": "1.5.0",
      "_model_name": "DescriptionStyleModel",
      "_view_count": null,
      "_view_module": "@jupyter-widgets/base",
      "_view_module_version": "1.2.0",
      "_view_name": "StyleView",
      "description_width": ""
     }
    },
    "b15185d68cd24f98b9a4d5b0e42e75e7": {
     "model_module": "@jupyter-widgets/controls",
     "model_module_version": "1.5.0",
     "model_name": "DescriptionStyleModel",
     "state": {
      "_model_module": "@jupyter-widgets/controls",
      "_model_module_version": "1.5.0",
      "_model_name": "DescriptionStyleModel",
      "_view_count": null,
      "_view_module": "@jupyter-widgets/base",
      "_view_module_version": "1.2.0",
      "_view_name": "StyleView",
      "description_width": ""
     }
    },
    "b2f32e5cbdba4a90bf81a9daf94f31d5": {
     "model_module": "@jupyter-widgets/controls",
     "model_module_version": "1.5.0",
     "model_name": "ProgressStyleModel",
     "state": {
      "_model_module": "@jupyter-widgets/controls",
      "_model_module_version": "1.5.0",
      "_model_name": "ProgressStyleModel",
      "_view_count": null,
      "_view_module": "@jupyter-widgets/base",
      "_view_module_version": "1.2.0",
      "_view_name": "StyleView",
      "bar_color": null,
      "description_width": ""
     }
    },
    "bfb52e0aa1514290a9cb3960b118ff3d": {
     "model_module": "@jupyter-widgets/controls",
     "model_module_version": "1.5.0",
     "model_name": "HTMLModel",
     "state": {
      "_dom_classes": [],
      "_model_module": "@jupyter-widgets/controls",
      "_model_module_version": "1.5.0",
      "_model_name": "HTMLModel",
      "_view_count": null,
      "_view_module": "@jupyter-widgets/controls",
      "_view_module_version": "1.5.0",
      "_view_name": "HTMLView",
      "description": "",
      "description_tooltip": null,
      "layout": "IPY_MODEL_50e908f22cfe4693b2a7726dca5939ec",
      "placeholder": "​",
      "style": "IPY_MODEL_00d1c5e673df47158259b5d3d6a340a4",
      "value": "Downloading (…)/main/tokenizer.json: 100%"
     }
    },
    "c707c476dbbb4c2e9c7fd1eedb4d65eb": {
     "model_module": "@jupyter-widgets/controls",
     "model_module_version": "1.5.0",
     "model_name": "HBoxModel",
     "state": {
      "_dom_classes": [],
      "_model_module": "@jupyter-widgets/controls",
      "_model_module_version": "1.5.0",
      "_model_name": "HBoxModel",
      "_view_count": null,
      "_view_module": "@jupyter-widgets/controls",
      "_view_module_version": "1.5.0",
      "_view_name": "HBoxView",
      "box_style": "",
      "children": [
       "IPY_MODEL_18882ffd62234ca2b3d66ab3199eb566",
       "IPY_MODEL_73f0980c9bca44f4aa662e4ca46572f0",
       "IPY_MODEL_2ce5426a69d44872a922fe5d5440c9ad"
      ],
      "layout": "IPY_MODEL_ff87cd8067c4497ba0839e390fd80aad"
     }
    },
    "ce8014d718a04403b7772e2c0b968edd": {
     "model_module": "@jupyter-widgets/controls",
     "model_module_version": "1.5.0",
     "model_name": "ProgressStyleModel",
     "state": {
      "_model_module": "@jupyter-widgets/controls",
      "_model_module_version": "1.5.0",
      "_model_name": "ProgressStyleModel",
      "_view_count": null,
      "_view_module": "@jupyter-widgets/base",
      "_view_module_version": "1.2.0",
      "_view_name": "StyleView",
      "bar_color": null,
      "description_width": ""
     }
    },
    "d6bec500c4394f8c954d4e4211862125": {
     "model_module": "@jupyter-widgets/base",
     "model_module_version": "1.2.0",
     "model_name": "LayoutModel",
     "state": {
      "_model_module": "@jupyter-widgets/base",
      "_model_module_version": "1.2.0",
      "_model_name": "LayoutModel",
      "_view_count": null,
      "_view_module": "@jupyter-widgets/base",
      "_view_module_version": "1.2.0",
      "_view_name": "LayoutView",
      "align_content": null,
      "align_items": null,
      "align_self": null,
      "border": null,
      "bottom": null,
      "display": null,
      "flex": null,
      "flex_flow": null,
      "grid_area": null,
      "grid_auto_columns": null,
      "grid_auto_flow": null,
      "grid_auto_rows": null,
      "grid_column": null,
      "grid_gap": null,
      "grid_row": null,
      "grid_template_areas": null,
      "grid_template_columns": null,
      "grid_template_rows": null,
      "height": null,
      "justify_content": null,
      "justify_items": null,
      "left": null,
      "margin": null,
      "max_height": null,
      "max_width": null,
      "min_height": null,
      "min_width": null,
      "object_fit": null,
      "object_position": null,
      "order": null,
      "overflow": null,
      "overflow_x": null,
      "overflow_y": null,
      "padding": null,
      "right": null,
      "top": null,
      "visibility": null,
      "width": null
     }
    },
    "de66e4686eef45a4a76f4e170c722d9a": {
     "model_module": "@jupyter-widgets/controls",
     "model_module_version": "1.5.0",
     "model_name": "HTMLModel",
     "state": {
      "_dom_classes": [],
      "_model_module": "@jupyter-widgets/controls",
      "_model_module_version": "1.5.0",
      "_model_name": "HTMLModel",
      "_view_count": null,
      "_view_module": "@jupyter-widgets/controls",
      "_view_module_version": "1.5.0",
      "_view_name": "HTMLView",
      "description": "",
      "description_tooltip": null,
      "layout": "IPY_MODEL_00c93a139acb4feb85635fe3f4cead4c",
      "placeholder": "​",
      "style": "IPY_MODEL_ffb9250eea254625b2c596531ea24af3",
      "value": "Downloading (…)solve/main/vocab.txt: 100%"
     }
    },
    "e0d6a278f5ca4506bb129824e9ce2617": {
     "model_module": "@jupyter-widgets/base",
     "model_module_version": "1.2.0",
     "model_name": "LayoutModel",
     "state": {
      "_model_module": "@jupyter-widgets/base",
      "_model_module_version": "1.2.0",
      "_model_name": "LayoutModel",
      "_view_count": null,
      "_view_module": "@jupyter-widgets/base",
      "_view_module_version": "1.2.0",
      "_view_name": "LayoutView",
      "align_content": null,
      "align_items": null,
      "align_self": null,
      "border": null,
      "bottom": null,
      "display": null,
      "flex": null,
      "flex_flow": null,
      "grid_area": null,
      "grid_auto_columns": null,
      "grid_auto_flow": null,
      "grid_auto_rows": null,
      "grid_column": null,
      "grid_gap": null,
      "grid_row": null,
      "grid_template_areas": null,
      "grid_template_columns": null,
      "grid_template_rows": null,
      "height": null,
      "justify_content": null,
      "justify_items": null,
      "left": null,
      "margin": null,
      "max_height": null,
      "max_width": null,
      "min_height": null,
      "min_width": null,
      "object_fit": null,
      "object_position": null,
      "order": null,
      "overflow": null,
      "overflow_x": null,
      "overflow_y": null,
      "padding": null,
      "right": null,
      "top": null,
      "visibility": null,
      "width": null
     }
    },
    "e3039a327f8b4781b7ce5172d79a8b7e": {
     "model_module": "@jupyter-widgets/controls",
     "model_module_version": "1.5.0",
     "model_name": "ProgressStyleModel",
     "state": {
      "_model_module": "@jupyter-widgets/controls",
      "_model_module_version": "1.5.0",
      "_model_name": "ProgressStyleModel",
      "_view_count": null,
      "_view_module": "@jupyter-widgets/base",
      "_view_module_version": "1.2.0",
      "_view_name": "StyleView",
      "bar_color": null,
      "description_width": ""
     }
    },
    "f3b87fc4cbae49049e0834f01843352b": {
     "model_module": "@jupyter-widgets/base",
     "model_module_version": "1.2.0",
     "model_name": "LayoutModel",
     "state": {
      "_model_module": "@jupyter-widgets/base",
      "_model_module_version": "1.2.0",
      "_model_name": "LayoutModel",
      "_view_count": null,
      "_view_module": "@jupyter-widgets/base",
      "_view_module_version": "1.2.0",
      "_view_name": "LayoutView",
      "align_content": null,
      "align_items": null,
      "align_self": null,
      "border": null,
      "bottom": null,
      "display": null,
      "flex": null,
      "flex_flow": null,
      "grid_area": null,
      "grid_auto_columns": null,
      "grid_auto_flow": null,
      "grid_auto_rows": null,
      "grid_column": null,
      "grid_gap": null,
      "grid_row": null,
      "grid_template_areas": null,
      "grid_template_columns": null,
      "grid_template_rows": null,
      "height": null,
      "justify_content": null,
      "justify_items": null,
      "left": null,
      "margin": null,
      "max_height": null,
      "max_width": null,
      "min_height": null,
      "min_width": null,
      "object_fit": null,
      "object_position": null,
      "order": null,
      "overflow": null,
      "overflow_x": null,
      "overflow_y": null,
      "padding": null,
      "right": null,
      "top": null,
      "visibility": null,
      "width": null
     }
    },
    "f82a5ea6dcc34c2c943d07e67efe1e59": {
     "model_module": "@jupyter-widgets/base",
     "model_module_version": "1.2.0",
     "model_name": "LayoutModel",
     "state": {
      "_model_module": "@jupyter-widgets/base",
      "_model_module_version": "1.2.0",
      "_model_name": "LayoutModel",
      "_view_count": null,
      "_view_module": "@jupyter-widgets/base",
      "_view_module_version": "1.2.0",
      "_view_name": "LayoutView",
      "align_content": null,
      "align_items": null,
      "align_self": null,
      "border": null,
      "bottom": null,
      "display": null,
      "flex": null,
      "flex_flow": null,
      "grid_area": null,
      "grid_auto_columns": null,
      "grid_auto_flow": null,
      "grid_auto_rows": null,
      "grid_column": null,
      "grid_gap": null,
      "grid_row": null,
      "grid_template_areas": null,
      "grid_template_columns": null,
      "grid_template_rows": null,
      "height": null,
      "justify_content": null,
      "justify_items": null,
      "left": null,
      "margin": null,
      "max_height": null,
      "max_width": null,
      "min_height": null,
      "min_width": null,
      "object_fit": null,
      "object_position": null,
      "order": null,
      "overflow": null,
      "overflow_x": null,
      "overflow_y": null,
      "padding": null,
      "right": null,
      "top": null,
      "visibility": null,
      "width": null
     }
    },
    "f8efa2ff06fa4ab6b4876dfbf028e540": {
     "model_module": "@jupyter-widgets/controls",
     "model_module_version": "1.5.0",
     "model_name": "FloatProgressModel",
     "state": {
      "_dom_classes": [],
      "_model_module": "@jupyter-widgets/controls",
      "_model_module_version": "1.5.0",
      "_model_name": "FloatProgressModel",
      "_view_count": null,
      "_view_module": "@jupyter-widgets/controls",
      "_view_module_version": "1.5.0",
      "_view_name": "ProgressView",
      "bar_style": "success",
      "description": "",
      "description_tooltip": null,
      "layout": "IPY_MODEL_d6bec500c4394f8c954d4e4211862125",
      "max": 231508,
      "min": 0,
      "orientation": "horizontal",
      "style": "IPY_MODEL_ce8014d718a04403b7772e2c0b968edd",
      "value": 231508
     }
    },
    "ff87cd8067c4497ba0839e390fd80aad": {
     "model_module": "@jupyter-widgets/base",
     "model_module_version": "1.2.0",
     "model_name": "LayoutModel",
     "state": {
      "_model_module": "@jupyter-widgets/base",
      "_model_module_version": "1.2.0",
      "_model_name": "LayoutModel",
      "_view_count": null,
      "_view_module": "@jupyter-widgets/base",
      "_view_module_version": "1.2.0",
      "_view_name": "LayoutView",
      "align_content": null,
      "align_items": null,
      "align_self": null,
      "border": null,
      "bottom": null,
      "display": null,
      "flex": null,
      "flex_flow": null,
      "grid_area": null,
      "grid_auto_columns": null,
      "grid_auto_flow": null,
      "grid_auto_rows": null,
      "grid_column": null,
      "grid_gap": null,
      "grid_row": null,
      "grid_template_areas": null,
      "grid_template_columns": null,
      "grid_template_rows": null,
      "height": null,
      "justify_content": null,
      "justify_items": null,
      "left": null,
      "margin": null,
      "max_height": null,
      "max_width": null,
      "min_height": null,
      "min_width": null,
      "object_fit": null,
      "object_position": null,
      "order": null,
      "overflow": null,
      "overflow_x": null,
      "overflow_y": null,
      "padding": null,
      "right": null,
      "top": null,
      "visibility": null,
      "width": null
     }
    },
    "ffb9250eea254625b2c596531ea24af3": {
     "model_module": "@jupyter-widgets/controls",
     "model_module_version": "1.5.0",
     "model_name": "DescriptionStyleModel",
     "state": {
      "_model_module": "@jupyter-widgets/controls",
      "_model_module_version": "1.5.0",
      "_model_name": "DescriptionStyleModel",
      "_view_count": null,
      "_view_module": "@jupyter-widgets/base",
      "_view_module_version": "1.2.0",
      "_view_name": "StyleView",
      "description_width": ""
     }
    }
   }
  }
 },
 "nbformat": 4,
 "nbformat_minor": 5
}
